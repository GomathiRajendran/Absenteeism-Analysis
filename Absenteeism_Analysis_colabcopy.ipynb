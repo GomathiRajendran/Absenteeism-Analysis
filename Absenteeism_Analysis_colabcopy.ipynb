{
  "nbformat": 4,
  "nbformat_minor": 0,
  "metadata": {
    "colab": {
      "name": "Absenteeism Analysis.ipynb",
      "provenance": [],
      "collapsed_sections": [],
      "mount_file_id": "1SUqhJHUqiQPHT8G62enJM3uToWx_PX4k",
      "authorship_tag": "ABX9TyNC69oWubl4OwLuEBhhOuxq",
      "include_colab_link": true
    },
    "kernelspec": {
      "name": "python3",
      "display_name": "Python 3"
    },
    "language_info": {
      "name": "python"
    }
  },
  "cells": [
    {
      "cell_type": "markdown",
      "metadata": {
        "id": "view-in-github",
        "colab_type": "text"
      },
      "source": [
        "<a href=\"https://colab.research.google.com/github/GomathiRajendran/ML-Foundations/blob/main/Absenteeism_Analysis_colabcopy.ipynb\" target=\"_parent\"><img src=\"https://colab.research.google.com/assets/colab-badge.svg\" alt=\"Open In Colab\"/></a>"
      ]
    },
    {
      "cell_type": "markdown",
      "metadata": {
        "id": "w5iF766iEwV6"
      },
      "source": [
        "#Employee Absenteeism Analysis🏢"
      ]
    },
    {
      "cell_type": "markdown",
      "metadata": {
        "id": "85HYE3P8GGUT"
      },
      "source": [
        "####**💡Data Explanation** \n",
        "1. ID - Identiﬁcation number of the employee \n",
        "2. Reason for absence -  The reason for absence (range from 1 - 28) \n",
        "<br>**Absences attested by the International Code of Diseases (ICD) stratified into 21 categories (I to XXI) as follows:**\n",
        "- I Certain infectious and parasitic diseases\n",
        "-II Neoplasms\n",
        "-III Diseases of the blood and blood-forming organs and certain disorders involving the immune mechanism\n",
        "-IV Endocrine, nutritional and metabolic diseases\n",
        "-V Mental and behavioural disorders\n",
        "-VI Diseases of the nervous system\n",
        "-VII Diseases of the eye and adnexa\n",
        "-VIII Diseases of the ear and mastoid process\n",
        "-IX Diseases of the circulatory system\n",
        "-X Diseases of the respiratory system\n",
        "-XI Diseases of the digestive system\n",
        "-XII Diseases of the skin and subcutaneous tissue\n",
        "-XIII Diseases of the musculoskeletal system and connective tissue\n",
        "-XIV Diseases of the genitourinary system\n",
        "-XV Pregnancy, childbirth and the puerperium\n",
        "-XVI Certain conditions originating in the perinatal period\n",
        "-XVII Congenital malformations, deformations and chromosomal abnormalities\n",
        "-XVIII Symptoms, signs and abnormal clinical and laboratory findings, not elsewhere classified\n",
        "-XIX Injury, poisoning and certain other consequences of external causes\n",
        "-XX External causes of morbidity and mortality\n",
        "-XXI Factors influencing health status and contact with health services.\n",
        "\n",
        "And 7 categories without (CID)\n",
        "- patient follow-up (22)\n",
        "- medical consultation (23)\n",
        "- blood donation (24)\n",
        "- laboratory examination (25)\n",
        "- unjustified absence (26)\n",
        "- physiotherapy (27)\n",
        "- dental consultation (28).\n",
        "<br/>\n",
        "<br/>\n",
        "3. Date - Date of absence\n",
        "4. Transportation Expense - Transportation cost from home to work\n",
        "5. Distance to Work -  Distance from residence to work \n",
        "6. Age - Age of the employee in years \n",
        "7. Daily Work Load Average - Average workload per day \n",
        "8. Body Mass Index - BMI of the employee\n",
        "9. Education - Range is from 1 - 4 depending on the education level\n",
        "10. Children - Number of children of the employee \n",
        "11. Pets - Number of pets that the employee has \n",
        "12. Absenteeism Time in Hours "
      ]
    },
    {
      "cell_type": "code",
      "metadata": {
        "id": "YqUn6bLlE4xM"
      },
      "source": [
        "#Importing modules\n",
        "import pandas as pd\n",
        "import numpy as np\n",
        "import matplotlib.pyplot as plt\n",
        "%matplotlib inline\n",
        "import seaborn as sns "
      ],
      "execution_count": 1,
      "outputs": []
    },
    {
      "cell_type": "code",
      "metadata": {
        "id": "-i1L-dbWFDE1"
      },
      "source": [
        "# Reading the data\n",
        "df = pd.read_excel('/content/drive/MyDrive/Attendance_Data.xlsx')"
      ],
      "execution_count": 2,
      "outputs": []
    },
    {
      "cell_type": "markdown",
      "metadata": {
        "id": "OSHEy4Y61OJg"
      },
      "source": [
        "##📊 Exploratory Data Analysis"
      ]
    },
    {
      "cell_type": "code",
      "metadata": {
        "colab": {
          "base_uri": "https://localhost:8080/",
          "height": 304
        },
        "id": "B-LoCAvtFBjW",
        "outputId": "38518ea7-58ed-4328-a6d8-ece1b3103183"
      },
      "source": [
        "df.head()"
      ],
      "execution_count": 3,
      "outputs": [
        {
          "output_type": "execute_result",
          "data": {
            "text/html": [
              "<div>\n",
              "<style scoped>\n",
              "    .dataframe tbody tr th:only-of-type {\n",
              "        vertical-align: middle;\n",
              "    }\n",
              "\n",
              "    .dataframe tbody tr th {\n",
              "        vertical-align: top;\n",
              "    }\n",
              "\n",
              "    .dataframe thead th {\n",
              "        text-align: right;\n",
              "    }\n",
              "</style>\n",
              "<table border=\"1\" class=\"dataframe\">\n",
              "  <thead>\n",
              "    <tr style=\"text-align: right;\">\n",
              "      <th></th>\n",
              "      <th>ID</th>\n",
              "      <th>Reason for Absence</th>\n",
              "      <th>Date</th>\n",
              "      <th>Transportation Expense</th>\n",
              "      <th>Distance to Work</th>\n",
              "      <th>Age</th>\n",
              "      <th>Daily Work Load Average</th>\n",
              "      <th>Body Mass Index</th>\n",
              "      <th>Education</th>\n",
              "      <th>Children</th>\n",
              "      <th>Pets</th>\n",
              "      <th>Absenteeism Time in Hours</th>\n",
              "    </tr>\n",
              "  </thead>\n",
              "  <tbody>\n",
              "    <tr>\n",
              "      <th>0</th>\n",
              "      <td>11</td>\n",
              "      <td>26</td>\n",
              "      <td>2015-07-07</td>\n",
              "      <td>289</td>\n",
              "      <td>36</td>\n",
              "      <td>33</td>\n",
              "      <td>239.554</td>\n",
              "      <td>30</td>\n",
              "      <td>1</td>\n",
              "      <td>2</td>\n",
              "      <td>1</td>\n",
              "      <td>4</td>\n",
              "    </tr>\n",
              "    <tr>\n",
              "      <th>1</th>\n",
              "      <td>36</td>\n",
              "      <td>0</td>\n",
              "      <td>2015-07-14</td>\n",
              "      <td>118</td>\n",
              "      <td>13</td>\n",
              "      <td>50</td>\n",
              "      <td>239.554</td>\n",
              "      <td>31</td>\n",
              "      <td>1</td>\n",
              "      <td>1</td>\n",
              "      <td>0</td>\n",
              "      <td>0</td>\n",
              "    </tr>\n",
              "    <tr>\n",
              "      <th>2</th>\n",
              "      <td>3</td>\n",
              "      <td>23</td>\n",
              "      <td>2015-07-15</td>\n",
              "      <td>179</td>\n",
              "      <td>51</td>\n",
              "      <td>38</td>\n",
              "      <td>239.554</td>\n",
              "      <td>31</td>\n",
              "      <td>1</td>\n",
              "      <td>0</td>\n",
              "      <td>0</td>\n",
              "      <td>2</td>\n",
              "    </tr>\n",
              "    <tr>\n",
              "      <th>3</th>\n",
              "      <td>7</td>\n",
              "      <td>7</td>\n",
              "      <td>2015-07-16</td>\n",
              "      <td>279</td>\n",
              "      <td>5</td>\n",
              "      <td>39</td>\n",
              "      <td>239.554</td>\n",
              "      <td>24</td>\n",
              "      <td>1</td>\n",
              "      <td>2</td>\n",
              "      <td>0</td>\n",
              "      <td>4</td>\n",
              "    </tr>\n",
              "    <tr>\n",
              "      <th>4</th>\n",
              "      <td>11</td>\n",
              "      <td>23</td>\n",
              "      <td>2015-07-23</td>\n",
              "      <td>289</td>\n",
              "      <td>36</td>\n",
              "      <td>33</td>\n",
              "      <td>239.554</td>\n",
              "      <td>30</td>\n",
              "      <td>1</td>\n",
              "      <td>2</td>\n",
              "      <td>1</td>\n",
              "      <td>2</td>\n",
              "    </tr>\n",
              "  </tbody>\n",
              "</table>\n",
              "</div>"
            ],
            "text/plain": [
              "   ID  Reason for Absence       Date  ...  Children  Pets  Absenteeism Time in Hours\n",
              "0  11                  26 2015-07-07  ...         2     1                          4\n",
              "1  36                   0 2015-07-14  ...         1     0                          0\n",
              "2   3                  23 2015-07-15  ...         0     0                          2\n",
              "3   7                   7 2015-07-16  ...         2     0                          4\n",
              "4  11                  23 2015-07-23  ...         2     1                          2\n",
              "\n",
              "[5 rows x 12 columns]"
            ]
          },
          "metadata": {},
          "execution_count": 3
        }
      ]
    },
    {
      "cell_type": "code",
      "metadata": {
        "colab": {
          "base_uri": "https://localhost:8080/"
        },
        "id": "aCpkbKKeF6OG",
        "outputId": "4679c6ac-ae43-4584-ad2f-87443d0f1407"
      },
      "source": [
        "df.shape"
      ],
      "execution_count": 4,
      "outputs": [
        {
          "output_type": "execute_result",
          "data": {
            "text/plain": [
              "(699, 12)"
            ]
          },
          "metadata": {},
          "execution_count": 4
        }
      ]
    },
    {
      "cell_type": "code",
      "metadata": {
        "colab": {
          "base_uri": "https://localhost:8080/"
        },
        "id": "nmV_I6yBKwf4",
        "outputId": "d7f53114-a896-4c76-cad7-59f472289027"
      },
      "source": [
        "df.info()"
      ],
      "execution_count": 5,
      "outputs": [
        {
          "output_type": "stream",
          "text": [
            "<class 'pandas.core.frame.DataFrame'>\n",
            "RangeIndex: 699 entries, 0 to 698\n",
            "Data columns (total 12 columns):\n",
            " #   Column                     Non-Null Count  Dtype         \n",
            "---  ------                     --------------  -----         \n",
            " 0   ID                         699 non-null    int64         \n",
            " 1   Reason for Absence         699 non-null    int64         \n",
            " 2   Date                       699 non-null    datetime64[ns]\n",
            " 3   Transportation Expense     699 non-null    int64         \n",
            " 4   Distance to Work           699 non-null    int64         \n",
            " 5   Age                        699 non-null    int64         \n",
            " 6   Daily Work Load Average    699 non-null    float64       \n",
            " 7   Body Mass Index            699 non-null    int64         \n",
            " 8   Education                  699 non-null    int64         \n",
            " 9   Children                   699 non-null    int64         \n",
            " 10  Pets                       699 non-null    int64         \n",
            " 11  Absenteeism Time in Hours  699 non-null    int64         \n",
            "dtypes: datetime64[ns](1), float64(1), int64(10)\n",
            "memory usage: 65.7 KB\n"
          ],
          "name": "stdout"
        }
      ]
    },
    {
      "cell_type": "code",
      "metadata": {
        "colab": {
          "base_uri": "https://localhost:8080/",
          "height": 312
        },
        "id": "GVLL6cG0Kz-l",
        "outputId": "c2f6dfcc-8ce6-43ac-a615-ea450e5361a1"
      },
      "source": [
        "# Checking the summary statistics\n",
        "df.describe()"
      ],
      "execution_count": 6,
      "outputs": [
        {
          "output_type": "execute_result",
          "data": {
            "text/html": [
              "<div>\n",
              "<style scoped>\n",
              "    .dataframe tbody tr th:only-of-type {\n",
              "        vertical-align: middle;\n",
              "    }\n",
              "\n",
              "    .dataframe tbody tr th {\n",
              "        vertical-align: top;\n",
              "    }\n",
              "\n",
              "    .dataframe thead th {\n",
              "        text-align: right;\n",
              "    }\n",
              "</style>\n",
              "<table border=\"1\" class=\"dataframe\">\n",
              "  <thead>\n",
              "    <tr style=\"text-align: right;\">\n",
              "      <th></th>\n",
              "      <th>ID</th>\n",
              "      <th>Reason for Absence</th>\n",
              "      <th>Transportation Expense</th>\n",
              "      <th>Distance to Work</th>\n",
              "      <th>Age</th>\n",
              "      <th>Daily Work Load Average</th>\n",
              "      <th>Body Mass Index</th>\n",
              "      <th>Education</th>\n",
              "      <th>Children</th>\n",
              "      <th>Pets</th>\n",
              "      <th>Absenteeism Time in Hours</th>\n",
              "    </tr>\n",
              "  </thead>\n",
              "  <tbody>\n",
              "    <tr>\n",
              "      <th>count</th>\n",
              "      <td>699.000000</td>\n",
              "      <td>699.000000</td>\n",
              "      <td>699.000000</td>\n",
              "      <td>699.000000</td>\n",
              "      <td>699.000000</td>\n",
              "      <td>699.000000</td>\n",
              "      <td>699.000000</td>\n",
              "      <td>699.000000</td>\n",
              "      <td>699.000000</td>\n",
              "      <td>699.000000</td>\n",
              "      <td>699.000000</td>\n",
              "    </tr>\n",
              "    <tr>\n",
              "      <th>mean</th>\n",
              "      <td>17.972818</td>\n",
              "      <td>19.406295</td>\n",
              "      <td>222.409156</td>\n",
              "      <td>29.862661</td>\n",
              "      <td>36.414878</td>\n",
              "      <td>271.896030</td>\n",
              "      <td>26.731044</td>\n",
              "      <td>1.283262</td>\n",
              "      <td>1.022890</td>\n",
              "      <td>0.688126</td>\n",
              "      <td>6.768240</td>\n",
              "    </tr>\n",
              "    <tr>\n",
              "      <th>std</th>\n",
              "      <td>11.021500</td>\n",
              "      <td>8.361171</td>\n",
              "      <td>66.340130</td>\n",
              "      <td>14.793459</td>\n",
              "      <td>6.383369</td>\n",
              "      <td>39.972638</td>\n",
              "      <td>4.254685</td>\n",
              "      <td>0.668482</td>\n",
              "      <td>1.112339</td>\n",
              "      <td>1.166640</td>\n",
              "      <td>12.677872</td>\n",
              "    </tr>\n",
              "    <tr>\n",
              "      <th>min</th>\n",
              "      <td>1.000000</td>\n",
              "      <td>0.000000</td>\n",
              "      <td>118.000000</td>\n",
              "      <td>5.000000</td>\n",
              "      <td>27.000000</td>\n",
              "      <td>205.917000</td>\n",
              "      <td>19.000000</td>\n",
              "      <td>1.000000</td>\n",
              "      <td>0.000000</td>\n",
              "      <td>0.000000</td>\n",
              "      <td>0.000000</td>\n",
              "    </tr>\n",
              "    <tr>\n",
              "      <th>25%</th>\n",
              "      <td>9.000000</td>\n",
              "      <td>13.000000</td>\n",
              "      <td>179.000000</td>\n",
              "      <td>16.000000</td>\n",
              "      <td>31.000000</td>\n",
              "      <td>242.931500</td>\n",
              "      <td>24.000000</td>\n",
              "      <td>1.000000</td>\n",
              "      <td>0.000000</td>\n",
              "      <td>0.000000</td>\n",
              "      <td>2.000000</td>\n",
              "    </tr>\n",
              "    <tr>\n",
              "      <th>50%</th>\n",
              "      <td>18.000000</td>\n",
              "      <td>23.000000</td>\n",
              "      <td>225.000000</td>\n",
              "      <td>26.000000</td>\n",
              "      <td>37.000000</td>\n",
              "      <td>264.249000</td>\n",
              "      <td>25.000000</td>\n",
              "      <td>1.000000</td>\n",
              "      <td>1.000000</td>\n",
              "      <td>0.000000</td>\n",
              "      <td>3.000000</td>\n",
              "    </tr>\n",
              "    <tr>\n",
              "      <th>75%</th>\n",
              "      <td>28.000000</td>\n",
              "      <td>27.000000</td>\n",
              "      <td>260.000000</td>\n",
              "      <td>50.000000</td>\n",
              "      <td>40.000000</td>\n",
              "      <td>294.217000</td>\n",
              "      <td>31.000000</td>\n",
              "      <td>1.000000</td>\n",
              "      <td>2.000000</td>\n",
              "      <td>1.000000</td>\n",
              "      <td>8.000000</td>\n",
              "    </tr>\n",
              "    <tr>\n",
              "      <th>max</th>\n",
              "      <td>36.000000</td>\n",
              "      <td>28.000000</td>\n",
              "      <td>388.000000</td>\n",
              "      <td>52.000000</td>\n",
              "      <td>58.000000</td>\n",
              "      <td>378.884000</td>\n",
              "      <td>38.000000</td>\n",
              "      <td>4.000000</td>\n",
              "      <td>4.000000</td>\n",
              "      <td>8.000000</td>\n",
              "      <td>120.000000</td>\n",
              "    </tr>\n",
              "  </tbody>\n",
              "</table>\n",
              "</div>"
            ],
            "text/plain": [
              "               ID  Reason for Absence  ...        Pets  Absenteeism Time in Hours\n",
              "count  699.000000          699.000000  ...  699.000000                 699.000000\n",
              "mean    17.972818           19.406295  ...    0.688126                   6.768240\n",
              "std     11.021500            8.361171  ...    1.166640                  12.677872\n",
              "min      1.000000            0.000000  ...    0.000000                   0.000000\n",
              "25%      9.000000           13.000000  ...    0.000000                   2.000000\n",
              "50%     18.000000           23.000000  ...    0.000000                   3.000000\n",
              "75%     28.000000           27.000000  ...    1.000000                   8.000000\n",
              "max     36.000000           28.000000  ...    8.000000                 120.000000\n",
              "\n",
              "[8 rows x 11 columns]"
            ]
          },
          "metadata": {},
          "execution_count": 6
        }
      ]
    },
    {
      "cell_type": "code",
      "metadata": {
        "colab": {
          "base_uri": "https://localhost:8080/"
        },
        "id": "wIRqhdO9K7sL",
        "outputId": "4b43b3d1-9dfc-4782-fcf2-a378f7c13a37"
      },
      "source": [
        "df.isnull().sum()"
      ],
      "execution_count": 7,
      "outputs": [
        {
          "output_type": "execute_result",
          "data": {
            "text/plain": [
              "ID                           0\n",
              "Reason for Absence           0\n",
              "Date                         0\n",
              "Transportation Expense       0\n",
              "Distance to Work             0\n",
              "Age                          0\n",
              "Daily Work Load Average      0\n",
              "Body Mass Index              0\n",
              "Education                    0\n",
              "Children                     0\n",
              "Pets                         0\n",
              "Absenteeism Time in Hours    0\n",
              "dtype: int64"
            ]
          },
          "metadata": {},
          "execution_count": 7
        }
      ]
    },
    {
      "cell_type": "code",
      "metadata": {
        "id": "PtudmHvRL0TY"
      },
      "source": [
        "from datetime import datetime as dt\n",
        "df['Month'] = df.Date.dt.month"
      ],
      "execution_count": 8,
      "outputs": []
    },
    {
      "cell_type": "code",
      "metadata": {
        "colab": {
          "base_uri": "https://localhost:8080/",
          "height": 209
        },
        "id": "YI6zLFqUO5uQ",
        "outputId": "730f8333-d21a-4959-a32c-9ddb9bcabfa8"
      },
      "source": [
        "df.head(3)"
      ],
      "execution_count": 9,
      "outputs": [
        {
          "output_type": "execute_result",
          "data": {
            "text/html": [
              "<div>\n",
              "<style scoped>\n",
              "    .dataframe tbody tr th:only-of-type {\n",
              "        vertical-align: middle;\n",
              "    }\n",
              "\n",
              "    .dataframe tbody tr th {\n",
              "        vertical-align: top;\n",
              "    }\n",
              "\n",
              "    .dataframe thead th {\n",
              "        text-align: right;\n",
              "    }\n",
              "</style>\n",
              "<table border=\"1\" class=\"dataframe\">\n",
              "  <thead>\n",
              "    <tr style=\"text-align: right;\">\n",
              "      <th></th>\n",
              "      <th>ID</th>\n",
              "      <th>Reason for Absence</th>\n",
              "      <th>Date</th>\n",
              "      <th>Transportation Expense</th>\n",
              "      <th>Distance to Work</th>\n",
              "      <th>Age</th>\n",
              "      <th>Daily Work Load Average</th>\n",
              "      <th>Body Mass Index</th>\n",
              "      <th>Education</th>\n",
              "      <th>Children</th>\n",
              "      <th>Pets</th>\n",
              "      <th>Absenteeism Time in Hours</th>\n",
              "      <th>Month</th>\n",
              "    </tr>\n",
              "  </thead>\n",
              "  <tbody>\n",
              "    <tr>\n",
              "      <th>0</th>\n",
              "      <td>11</td>\n",
              "      <td>26</td>\n",
              "      <td>2015-07-07</td>\n",
              "      <td>289</td>\n",
              "      <td>36</td>\n",
              "      <td>33</td>\n",
              "      <td>239.554</td>\n",
              "      <td>30</td>\n",
              "      <td>1</td>\n",
              "      <td>2</td>\n",
              "      <td>1</td>\n",
              "      <td>4</td>\n",
              "      <td>7</td>\n",
              "    </tr>\n",
              "    <tr>\n",
              "      <th>1</th>\n",
              "      <td>36</td>\n",
              "      <td>0</td>\n",
              "      <td>2015-07-14</td>\n",
              "      <td>118</td>\n",
              "      <td>13</td>\n",
              "      <td>50</td>\n",
              "      <td>239.554</td>\n",
              "      <td>31</td>\n",
              "      <td>1</td>\n",
              "      <td>1</td>\n",
              "      <td>0</td>\n",
              "      <td>0</td>\n",
              "      <td>7</td>\n",
              "    </tr>\n",
              "    <tr>\n",
              "      <th>2</th>\n",
              "      <td>3</td>\n",
              "      <td>23</td>\n",
              "      <td>2015-07-15</td>\n",
              "      <td>179</td>\n",
              "      <td>51</td>\n",
              "      <td>38</td>\n",
              "      <td>239.554</td>\n",
              "      <td>31</td>\n",
              "      <td>1</td>\n",
              "      <td>0</td>\n",
              "      <td>0</td>\n",
              "      <td>2</td>\n",
              "      <td>7</td>\n",
              "    </tr>\n",
              "  </tbody>\n",
              "</table>\n",
              "</div>"
            ],
            "text/plain": [
              "   ID  Reason for Absence       Date  ...  Pets  Absenteeism Time in Hours  Month\n",
              "0  11                  26 2015-07-07  ...     1                          4      7\n",
              "1  36                   0 2015-07-14  ...     0                          0      7\n",
              "2   3                  23 2015-07-15  ...     0                          2      7\n",
              "\n",
              "[3 rows x 13 columns]"
            ]
          },
          "metadata": {},
          "execution_count": 9
        }
      ]
    },
    {
      "cell_type": "code",
      "metadata": {
        "id": "mv6MyOkFO_kw"
      },
      "source": [
        "df['Day'] = df.Date.dt.day"
      ],
      "execution_count": 10,
      "outputs": []
    },
    {
      "cell_type": "code",
      "metadata": {
        "colab": {
          "base_uri": "https://localhost:8080/",
          "height": 209
        },
        "id": "bYdwmzD0PmVz",
        "outputId": "e3e586e4-9604-464f-e185-c7ec0fd100eb"
      },
      "source": [
        "df.head(3)"
      ],
      "execution_count": 11,
      "outputs": [
        {
          "output_type": "execute_result",
          "data": {
            "text/html": [
              "<div>\n",
              "<style scoped>\n",
              "    .dataframe tbody tr th:only-of-type {\n",
              "        vertical-align: middle;\n",
              "    }\n",
              "\n",
              "    .dataframe tbody tr th {\n",
              "        vertical-align: top;\n",
              "    }\n",
              "\n",
              "    .dataframe thead th {\n",
              "        text-align: right;\n",
              "    }\n",
              "</style>\n",
              "<table border=\"1\" class=\"dataframe\">\n",
              "  <thead>\n",
              "    <tr style=\"text-align: right;\">\n",
              "      <th></th>\n",
              "      <th>ID</th>\n",
              "      <th>Reason for Absence</th>\n",
              "      <th>Date</th>\n",
              "      <th>Transportation Expense</th>\n",
              "      <th>Distance to Work</th>\n",
              "      <th>Age</th>\n",
              "      <th>Daily Work Load Average</th>\n",
              "      <th>Body Mass Index</th>\n",
              "      <th>Education</th>\n",
              "      <th>Children</th>\n",
              "      <th>Pets</th>\n",
              "      <th>Absenteeism Time in Hours</th>\n",
              "      <th>Month</th>\n",
              "      <th>Day</th>\n",
              "    </tr>\n",
              "  </thead>\n",
              "  <tbody>\n",
              "    <tr>\n",
              "      <th>0</th>\n",
              "      <td>11</td>\n",
              "      <td>26</td>\n",
              "      <td>2015-07-07</td>\n",
              "      <td>289</td>\n",
              "      <td>36</td>\n",
              "      <td>33</td>\n",
              "      <td>239.554</td>\n",
              "      <td>30</td>\n",
              "      <td>1</td>\n",
              "      <td>2</td>\n",
              "      <td>1</td>\n",
              "      <td>4</td>\n",
              "      <td>7</td>\n",
              "      <td>7</td>\n",
              "    </tr>\n",
              "    <tr>\n",
              "      <th>1</th>\n",
              "      <td>36</td>\n",
              "      <td>0</td>\n",
              "      <td>2015-07-14</td>\n",
              "      <td>118</td>\n",
              "      <td>13</td>\n",
              "      <td>50</td>\n",
              "      <td>239.554</td>\n",
              "      <td>31</td>\n",
              "      <td>1</td>\n",
              "      <td>1</td>\n",
              "      <td>0</td>\n",
              "      <td>0</td>\n",
              "      <td>7</td>\n",
              "      <td>14</td>\n",
              "    </tr>\n",
              "    <tr>\n",
              "      <th>2</th>\n",
              "      <td>3</td>\n",
              "      <td>23</td>\n",
              "      <td>2015-07-15</td>\n",
              "      <td>179</td>\n",
              "      <td>51</td>\n",
              "      <td>38</td>\n",
              "      <td>239.554</td>\n",
              "      <td>31</td>\n",
              "      <td>1</td>\n",
              "      <td>0</td>\n",
              "      <td>0</td>\n",
              "      <td>2</td>\n",
              "      <td>7</td>\n",
              "      <td>15</td>\n",
              "    </tr>\n",
              "  </tbody>\n",
              "</table>\n",
              "</div>"
            ],
            "text/plain": [
              "   ID  Reason for Absence       Date  ...  Absenteeism Time in Hours  Month  Day\n",
              "0  11                  26 2015-07-07  ...                          4      7    7\n",
              "1  36                   0 2015-07-14  ...                          0      7   14\n",
              "2   3                  23 2015-07-15  ...                          2      7   15\n",
              "\n",
              "[3 rows x 14 columns]"
            ]
          },
          "metadata": {},
          "execution_count": 11
        }
      ]
    },
    {
      "cell_type": "code",
      "metadata": {
        "id": "-gBtShIpPscd"
      },
      "source": [
        "df['Year'] = df.Date.dt.year"
      ],
      "execution_count": 12,
      "outputs": []
    },
    {
      "cell_type": "code",
      "metadata": {
        "colab": {
          "base_uri": "https://localhost:8080/",
          "height": 209
        },
        "id": "VaMPOa3ZU8sE",
        "outputId": "b5692f46-d742-402b-a1f4-28391fb419db"
      },
      "source": [
        "df.head(3)"
      ],
      "execution_count": 13,
      "outputs": [
        {
          "output_type": "execute_result",
          "data": {
            "text/html": [
              "<div>\n",
              "<style scoped>\n",
              "    .dataframe tbody tr th:only-of-type {\n",
              "        vertical-align: middle;\n",
              "    }\n",
              "\n",
              "    .dataframe tbody tr th {\n",
              "        vertical-align: top;\n",
              "    }\n",
              "\n",
              "    .dataframe thead th {\n",
              "        text-align: right;\n",
              "    }\n",
              "</style>\n",
              "<table border=\"1\" class=\"dataframe\">\n",
              "  <thead>\n",
              "    <tr style=\"text-align: right;\">\n",
              "      <th></th>\n",
              "      <th>ID</th>\n",
              "      <th>Reason for Absence</th>\n",
              "      <th>Date</th>\n",
              "      <th>Transportation Expense</th>\n",
              "      <th>Distance to Work</th>\n",
              "      <th>Age</th>\n",
              "      <th>Daily Work Load Average</th>\n",
              "      <th>Body Mass Index</th>\n",
              "      <th>Education</th>\n",
              "      <th>Children</th>\n",
              "      <th>Pets</th>\n",
              "      <th>Absenteeism Time in Hours</th>\n",
              "      <th>Month</th>\n",
              "      <th>Day</th>\n",
              "      <th>Year</th>\n",
              "    </tr>\n",
              "  </thead>\n",
              "  <tbody>\n",
              "    <tr>\n",
              "      <th>0</th>\n",
              "      <td>11</td>\n",
              "      <td>26</td>\n",
              "      <td>2015-07-07</td>\n",
              "      <td>289</td>\n",
              "      <td>36</td>\n",
              "      <td>33</td>\n",
              "      <td>239.554</td>\n",
              "      <td>30</td>\n",
              "      <td>1</td>\n",
              "      <td>2</td>\n",
              "      <td>1</td>\n",
              "      <td>4</td>\n",
              "      <td>7</td>\n",
              "      <td>7</td>\n",
              "      <td>2015</td>\n",
              "    </tr>\n",
              "    <tr>\n",
              "      <th>1</th>\n",
              "      <td>36</td>\n",
              "      <td>0</td>\n",
              "      <td>2015-07-14</td>\n",
              "      <td>118</td>\n",
              "      <td>13</td>\n",
              "      <td>50</td>\n",
              "      <td>239.554</td>\n",
              "      <td>31</td>\n",
              "      <td>1</td>\n",
              "      <td>1</td>\n",
              "      <td>0</td>\n",
              "      <td>0</td>\n",
              "      <td>7</td>\n",
              "      <td>14</td>\n",
              "      <td>2015</td>\n",
              "    </tr>\n",
              "    <tr>\n",
              "      <th>2</th>\n",
              "      <td>3</td>\n",
              "      <td>23</td>\n",
              "      <td>2015-07-15</td>\n",
              "      <td>179</td>\n",
              "      <td>51</td>\n",
              "      <td>38</td>\n",
              "      <td>239.554</td>\n",
              "      <td>31</td>\n",
              "      <td>1</td>\n",
              "      <td>0</td>\n",
              "      <td>0</td>\n",
              "      <td>2</td>\n",
              "      <td>7</td>\n",
              "      <td>15</td>\n",
              "      <td>2015</td>\n",
              "    </tr>\n",
              "  </tbody>\n",
              "</table>\n",
              "</div>"
            ],
            "text/plain": [
              "   ID  Reason for Absence       Date  ...  Month  Day  Year\n",
              "0  11                  26 2015-07-07  ...      7    7  2015\n",
              "1  36                   0 2015-07-14  ...      7   14  2015\n",
              "2   3                  23 2015-07-15  ...      7   15  2015\n",
              "\n",
              "[3 rows x 15 columns]"
            ]
          },
          "metadata": {},
          "execution_count": 13
        }
      ]
    },
    {
      "cell_type": "code",
      "metadata": {
        "id": "1Hzk3NLHU-jV",
        "colab": {
          "base_uri": "https://localhost:8080/"
        },
        "outputId": "36cbf25a-f1f5-4d99-bfaa-c2bb6fc52154"
      },
      "source": [
        "for column in df.columns:\n",
        "    print(f\"Column: {column}\")\n",
        "    print(f\"Number of unique values: {df[column].nunique()}\")\n",
        "    print(f\"Min: {df[column].min()}\")\n",
        "    print(f\"Max: {df[column].max()}\")\n",
        "    print('_________________________________________________')"
      ],
      "execution_count": 14,
      "outputs": [
        {
          "output_type": "stream",
          "text": [
            "Column: ID\n",
            "Number of unique values: 34\n",
            "Min: 1\n",
            "Max: 36\n",
            "_________________________________________________\n",
            "Column: Reason for Absence\n",
            "Number of unique values: 28\n",
            "Min: 0\n",
            "Max: 28\n",
            "_________________________________________________\n",
            "Column: Date\n",
            "Number of unique values: 432\n",
            "Min: 2015-07-06 00:00:00\n",
            "Max: 2018-05-31 00:00:00\n",
            "_________________________________________________\n",
            "Column: Transportation Expense\n",
            "Number of unique values: 24\n",
            "Min: 118\n",
            "Max: 388\n",
            "_________________________________________________\n",
            "Column: Distance to Work\n",
            "Number of unique values: 24\n",
            "Min: 5\n",
            "Max: 52\n",
            "_________________________________________________\n",
            "Column: Age\n",
            "Number of unique values: 21\n",
            "Min: 27\n",
            "Max: 58\n",
            "_________________________________________________\n",
            "Column: Daily Work Load Average\n",
            "Number of unique values: 35\n",
            "Min: 205.917\n",
            "Max: 378.884\n",
            "_________________________________________________\n",
            "Column: Body Mass Index\n",
            "Number of unique values: 16\n",
            "Min: 19\n",
            "Max: 38\n",
            "_________________________________________________\n",
            "Column: Education\n",
            "Number of unique values: 4\n",
            "Min: 1\n",
            "Max: 4\n",
            "_________________________________________________\n",
            "Column: Children\n",
            "Number of unique values: 5\n",
            "Min: 0\n",
            "Max: 4\n",
            "_________________________________________________\n",
            "Column: Pets\n",
            "Number of unique values: 6\n",
            "Min: 0\n",
            "Max: 8\n",
            "_________________________________________________\n",
            "Column: Absenteeism Time in Hours\n",
            "Number of unique values: 19\n",
            "Min: 0\n",
            "Max: 120\n",
            "_________________________________________________\n",
            "Column: Month\n",
            "Number of unique values: 12\n",
            "Min: 1\n",
            "Max: 12\n",
            "_________________________________________________\n",
            "Column: Day\n",
            "Number of unique values: 31\n",
            "Min: 1\n",
            "Max: 31\n",
            "_________________________________________________\n",
            "Column: Year\n",
            "Number of unique values: 4\n",
            "Min: 2015\n",
            "Max: 2018\n",
            "_________________________________________________\n"
          ],
          "name": "stdout"
        }
      ]
    },
    {
      "cell_type": "code",
      "metadata": {
        "colab": {
          "base_uri": "https://localhost:8080/",
          "height": 1000
        },
        "id": "wTvofz452xcv",
        "outputId": "b100925a-a40d-42a7-d429-46c762dea656"
      },
      "source": [
        "df.hist(edgecolor='black', linewidth=1.2, figsize=(18,18));"
      ],
      "execution_count": 15,
      "outputs": [
        {
          "output_type": "display_data",
          "data": {
            "image/png": "[encoded data removed]",
            "text/plain": [
              "<Figure size 1296x1296 with 16 Axes>"
            ]
          },
          "metadata": {
            "needs_background": "light"
          }
        }
      ]
    },
    {
      "cell_type": "code",
      "metadata": {
        "colab": {
          "base_uri": "https://localhost:8080/",
          "height": 388
        },
        "id": "kkpapCLb3cHz",
        "outputId": "e6d635e7-af04-442d-ecdf-22a5b9c0d3a9"
      },
      "source": [
        "fig, ax = plt.subplots(figsize=(10,6))\n",
        "sns.countplot(data=df, x='Reason for Absence');"
      ],
      "execution_count": 16,
      "outputs": [
        {
          "output_type": "display_data",
          "data": {
            "image/png": "[encoded data removed]",
            "text/plain": [
              "<Figure size 720x432 with 1 Axes>"
            ]
          },
          "metadata": {
            "needs_background": "light"
          }
        }
      ]
    },
    {
      "cell_type": "markdown",
      "metadata": {
        "id": "neAUkjpa4-vX"
      },
      "source": [
        "***Insight***:<br/> \n",
        " 23 i.e., **Medical consultation** is the reason quoted by most employees for their absence followed by 28 which is **Dental consultation**"
      ]
    },
    {
      "cell_type": "code",
      "metadata": {
        "colab": {
          "base_uri": "https://localhost:8080/",
          "height": 388
        },
        "id": "wH81Alou8p6G",
        "outputId": "4397da7f-ab9b-4b7f-aa4d-642916e812c6"
      },
      "source": [
        "fig, ax = plt.subplots(figsize=(10,6))\n",
        "sns.countplot(data=df, x='Education');"
      ],
      "execution_count": 17,
      "outputs": [
        {
          "output_type": "display_data",
          "data": {
            "image/png": "[encoded data removed]",
            "text/plain": [
              "<Figure size 720x432 with 1 Axes>"
            ]
          },
          "metadata": {
            "needs_background": "light"
          }
        }
      ]
    },
    {
      "cell_type": "code",
      "metadata": {
        "colab": {
          "base_uri": "https://localhost:8080/",
          "height": 388
        },
        "id": "tC4hoI0n9OsX",
        "outputId": "dc6c7c49-258d-4f65-d604-4f2a104431ea"
      },
      "source": [
        "fig, ax = plt.subplots(figsize=(10,6))\n",
        "sns.countplot(data=df, x='Children', order=df.Children.value_counts().index);"
      ],
      "execution_count": 18,
      "outputs": [
        {
          "output_type": "display_data",
          "data": {
            "image/png": "[encoded data removed]",
            "text/plain": [
              "<Figure size 720x432 with 1 Axes>"
            ]
          },
          "metadata": {
            "needs_background": "light"
          }
        }
      ]
    },
    {
      "cell_type": "code",
      "metadata": {
        "colab": {
          "base_uri": "https://localhost:8080/",
          "height": 388
        },
        "id": "X0wjRLKm9UKx",
        "outputId": "020dc180-e678-4879-803c-2a8aa2ccb5fc"
      },
      "source": [
        "fig, ax = plt.subplots(figsize=(10,6))\n",
        "sns.countplot(data=df, x='Pets', order=df.Pets.value_counts().index);"
      ],
      "execution_count": 19,
      "outputs": [
        {
          "output_type": "display_data",
          "data": {
            "image/png": "[encoded data removed]",
            "text/plain": [
              "<Figure size 720x432 with 1 Axes>"
            ]
          },
          "metadata": {
            "needs_background": "light"
          }
        }
      ]
    },
    {
      "cell_type": "code",
      "metadata": {
        "colab": {
          "base_uri": "https://localhost:8080/",
          "height": 388
        },
        "id": "KpX-hwYH9ZwE",
        "outputId": "ef5ed679-9e9b-4d27-9051-470962ef98d0"
      },
      "source": [
        "fig, ax = plt.subplots(figsize=(10,6))\n",
        "sns.countplot(data=df, x='Month', order=df.Month.value_counts().index);"
      ],
      "execution_count": 20,
      "outputs": [
        {
          "output_type": "display_data",
          "data": {
            "image/png": "[encoded data removed]",
            "text/plain": [
              "<Figure size 720x432 with 1 Axes>"
            ]
          },
          "metadata": {
            "needs_background": "light"
          }
        }
      ]
    },
    {
      "cell_type": "markdown",
      "metadata": {
        "id": "rDN3zl0X-gfp"
      },
      "source": [
        "**Insight**:<br/>\n",
        "Employees mostly take leave on March month followed by February and October"
      ]
    },
    {
      "cell_type": "code",
      "metadata": {
        "colab": {
          "base_uri": "https://localhost:8080/",
          "height": 388
        },
        "id": "OAjWbEYg_KCJ",
        "outputId": "de443c57-63b7-4d53-c892-cf0cf8dc47f6"
      },
      "source": [
        "fig, ax = plt.subplots(figsize=(10,6))\n",
        "sns.countplot(data=df, x='Day', order=df.Day.value_counts().index);"
      ],
      "execution_count": 21,
      "outputs": [
        {
          "output_type": "display_data",
          "data": {
            "image/png": "[encoded data removed]",
            "text/plain": [
              "<Figure size 720x432 with 1 Axes>"
            ]
          },
          "metadata": {
            "needs_background": "light"
          }
        }
      ]
    },
    {
      "cell_type": "markdown",
      "metadata": {
        "id": "k7gA9TH7_bQM"
      },
      "source": [
        "Insight:<br/>\n",
        "People prefer not to absent themselves on start and end of the month"
      ]
    },
    {
      "cell_type": "code",
      "metadata": {
        "colab": {
          "base_uri": "https://localhost:8080/",
          "height": 265
        },
        "id": "tKyxvMHiAcio",
        "outputId": "fce47932-d9f4-4b0e-f8b5-43cf74c37375"
      },
      "source": [
        "df['Age'].hist(edgecolor='black', linewidth=1.2, bins=10);"
      ],
      "execution_count": 22,
      "outputs": [
        {
          "output_type": "display_data",
          "data": {
            "image/png": "[encoded data removed]",
            "text/plain": [
              "<Figure size 432x288 with 1 Axes>"
            ]
          },
          "metadata": {
            "needs_background": "light"
          }
        }
      ]
    },
    {
      "cell_type": "code",
      "metadata": {
        "colab": {
          "base_uri": "https://localhost:8080/"
        },
        "id": "SemMvB68Ak62",
        "outputId": "d3cb145e-559d-4b12-f47c-03cf131b2e0b"
      },
      "source": [
        "(max(df['Age']) - min(df['Age']))/5"
      ],
      "execution_count": 23,
      "outputs": [
        {
          "output_type": "execute_result",
          "data": {
            "text/plain": [
              "6.2"
            ]
          },
          "metadata": {},
          "execution_count": 23
        }
      ]
    },
    {
      "cell_type": "code",
      "metadata": {
        "colab": {
          "base_uri": "https://localhost:8080/",
          "height": 388
        },
        "id": "1C3sKqyhB10x",
        "outputId": "39265ccc-36ae-48ed-8809-284fcba7ddfc"
      },
      "source": [
        "fig, ax = plt.subplots(figsize=(10,6))\n",
        "sns.countplot(data=df, x='Age', order=df.Age.value_counts().index);"
      ],
      "execution_count": 24,
      "outputs": [
        {
          "output_type": "display_data",
          "data": {
            "image/png": "[encoded data removed]",
            "text/plain": [
              "<Figure size 720x432 with 1 Axes>"
            ]
          },
          "metadata": {
            "needs_background": "light"
          }
        }
      ]
    },
    {
      "cell_type": "markdown",
      "metadata": {
        "id": "8E5S1BZ5CZZk"
      },
      "source": [
        "Insight:<br/>\n",
        "People beloging to age group of 35 to 40 takes more leaves"
      ]
    },
    {
      "cell_type": "code",
      "metadata": {
        "colab": {
          "base_uri": "https://localhost:8080/",
          "height": 994
        },
        "id": "WGiZRVdKDAn6",
        "outputId": "d20b86c1-a5ab-48b2-88bf-f31780788443"
      },
      "source": [
        "plt.figure(figsize=(20, 15))\n",
        "sns.heatmap(df.corr(), annot=True);"
      ],
      "execution_count": 25,
      "outputs": [
        {
          "output_type": "display_data",
          "data": {
            "image/png": "[encoded data removed]",
            "text/plain": [
              "<Figure size 1440x1080 with 2 Axes>"
            ]
          },
          "metadata": {
            "needs_background": "light"
          }
        }
      ]
    },
    {
      "cell_type": "markdown",
      "metadata": {
        "id": "KC0vkiCgDLyw"
      },
      "source": [
        "###**🤖 Using Machine Learning Algorithms**"
      ]
    },
    {
      "cell_type": "code",
      "metadata": {
        "id": "d2NAV_i7Oa3m"
      },
      "source": [
        "from sklearn.preprocessing import StandardScaler\n",
        "from sklearn.base import BaseEstimator, TransformerMixin\n",
        "from sklearn.preprocessing import StandardScaler\n",
        "from sklearn.model_selection import train_test_split\n",
        "from sklearn.linear_model import LogisticRegression\n",
        "from sklearn.metrics import accuracy_score, confusion_matrix\n",
        "from sklearn import svm, tree\n",
        "import xgboost\n",
        "from sklearn.naive_bayes import GaussianNB\n",
        "from sklearn.ensemble import RandomForestClassifier, AdaBoostClassifier\n",
        "from sklearn.neural_network import MLPClassifier\n",
        "from sklearn import metrics\n",
        "from sklearn.neighbors import KNeighborsClassifier\n",
        "from sklearn.model_selection import GridSearchCV\n",
        "import pickle"
      ],
      "execution_count": 26,
      "outputs": []
    },
    {
      "cell_type": "code",
      "metadata": {
        "id": "vZHpWpYjR7G7"
      },
      "source": [
        "data = df.drop(['ID'], axis = 1)"
      ],
      "execution_count": 27,
      "outputs": []
    },
    {
      "cell_type": "code",
      "metadata": {
        "id": "HNVY0Nl_Shby"
      },
      "source": [
        "\n",
        "### the grouping is as follows\n",
        "'''\n",
        "1- 14 are various diseases\n",
        "15 -17 : pregnancy and given birth related\n",
        "18-21: poisons or diseases not elsewere categorise\n",
        "22 and above : light reason or less serious reasons\n",
        "\n",
        "'''\n",
        "### then apply the function below to the dataframe\n",
        "\n",
        "\n",
        "def Reason(data):\n",
        "    if data['Reason for Absence'] < 15 :\n",
        "        d = 'R_Known'\n",
        "    elif data['Reason for Absence'] >= 15 and data['Reason for Absence'] <= 17  :\n",
        "        d = 'R_Preg_Birth'\n",
        "    elif data['Reason for Absence'] >= 18 and data['Reason for Absence'] <= 21  :\n",
        "        d = 'R_Pois_unclass'\n",
        "    elif data['Reason for Absence'] == 22:\n",
        "        d = 'R_NotSerious'\n",
        "    else:\n",
        "        d = 'R_NotSerious'\n",
        "    return d\n",
        "\n",
        "data['ReasonGroups'] = data.apply(Reason, axis=1)\n",
        "\n",
        "# so lets drop the Reasons for absence column because is no more useful\n",
        "data = data.drop(['Reason for Absence'], axis = 1)"
      ],
      "execution_count": 28,
      "outputs": []
    },
    {
      "cell_type": "code",
      "metadata": {
        "colab": {
          "base_uri": "https://localhost:8080/",
          "height": 209
        },
        "id": "2YjkRD2HS0iR",
        "outputId": "7ee13333-1473-463c-a4cf-f1f17736ce66"
      },
      "source": [
        "data.head(3)"
      ],
      "execution_count": 29,
      "outputs": [
        {
          "output_type": "execute_result",
          "data": {
            "text/html": [
              "<div>\n",
              "<style scoped>\n",
              "    .dataframe tbody tr th:only-of-type {\n",
              "        vertical-align: middle;\n",
              "    }\n",
              "\n",
              "    .dataframe tbody tr th {\n",
              "        vertical-align: top;\n",
              "    }\n",
              "\n",
              "    .dataframe thead th {\n",
              "        text-align: right;\n",
              "    }\n",
              "</style>\n",
              "<table border=\"1\" class=\"dataframe\">\n",
              "  <thead>\n",
              "    <tr style=\"text-align: right;\">\n",
              "      <th></th>\n",
              "      <th>Date</th>\n",
              "      <th>Transportation Expense</th>\n",
              "      <th>Distance to Work</th>\n",
              "      <th>Age</th>\n",
              "      <th>Daily Work Load Average</th>\n",
              "      <th>Body Mass Index</th>\n",
              "      <th>Education</th>\n",
              "      <th>Children</th>\n",
              "      <th>Pets</th>\n",
              "      <th>Absenteeism Time in Hours</th>\n",
              "      <th>Month</th>\n",
              "      <th>Day</th>\n",
              "      <th>Year</th>\n",
              "      <th>ReasonGroups</th>\n",
              "    </tr>\n",
              "  </thead>\n",
              "  <tbody>\n",
              "    <tr>\n",
              "      <th>0</th>\n",
              "      <td>2015-07-07</td>\n",
              "      <td>289</td>\n",
              "      <td>36</td>\n",
              "      <td>33</td>\n",
              "      <td>239.554</td>\n",
              "      <td>30</td>\n",
              "      <td>1</td>\n",
              "      <td>2</td>\n",
              "      <td>1</td>\n",
              "      <td>4</td>\n",
              "      <td>7</td>\n",
              "      <td>7</td>\n",
              "      <td>2015</td>\n",
              "      <td>R_NotSerious</td>\n",
              "    </tr>\n",
              "    <tr>\n",
              "      <th>1</th>\n",
              "      <td>2015-07-14</td>\n",
              "      <td>118</td>\n",
              "      <td>13</td>\n",
              "      <td>50</td>\n",
              "      <td>239.554</td>\n",
              "      <td>31</td>\n",
              "      <td>1</td>\n",
              "      <td>1</td>\n",
              "      <td>0</td>\n",
              "      <td>0</td>\n",
              "      <td>7</td>\n",
              "      <td>14</td>\n",
              "      <td>2015</td>\n",
              "      <td>R_Known</td>\n",
              "    </tr>\n",
              "    <tr>\n",
              "      <th>2</th>\n",
              "      <td>2015-07-15</td>\n",
              "      <td>179</td>\n",
              "      <td>51</td>\n",
              "      <td>38</td>\n",
              "      <td>239.554</td>\n",
              "      <td>31</td>\n",
              "      <td>1</td>\n",
              "      <td>0</td>\n",
              "      <td>0</td>\n",
              "      <td>2</td>\n",
              "      <td>7</td>\n",
              "      <td>15</td>\n",
              "      <td>2015</td>\n",
              "      <td>R_NotSerious</td>\n",
              "    </tr>\n",
              "  </tbody>\n",
              "</table>\n",
              "</div>"
            ],
            "text/plain": [
              "        Date  Transportation Expense  Distance to Work  ...  Day  Year  ReasonGroups\n",
              "0 2015-07-07                     289                36  ...    7  2015  R_NotSerious\n",
              "1 2015-07-14                     118                13  ...   14  2015       R_Known\n",
              "2 2015-07-15                     179                51  ...   15  2015  R_NotSerious\n",
              "\n",
              "[3 rows x 14 columns]"
            ]
          },
          "metadata": {},
          "execution_count": 29
        }
      ]
    },
    {
      "cell_type": "code",
      "metadata": {
        "colab": {
          "base_uri": "https://localhost:8080/",
          "height": 575
        },
        "id": "0DVjOtPoTIRt",
        "outputId": "9355cd89-a2fc-4ef9-e04c-8deb1bebb9b5"
      },
      "source": [
        "#lets get dummies\n",
        "R_dummies = pd.get_dummies(data['ReasonGroups'])\n",
        "\n",
        "#lets merge it\n",
        "data = pd.concat([data, R_dummies], axis = 1)\n",
        "\n",
        "data = data.drop(['ReasonGroups'], axis = 1)\n",
        "data.head(10)"
      ],
      "execution_count": 30,
      "outputs": [
        {
          "output_type": "execute_result",
          "data": {
            "text/html": [
              "<div>\n",
              "<style scoped>\n",
              "    .dataframe tbody tr th:only-of-type {\n",
              "        vertical-align: middle;\n",
              "    }\n",
              "\n",
              "    .dataframe tbody tr th {\n",
              "        vertical-align: top;\n",
              "    }\n",
              "\n",
              "    .dataframe thead th {\n",
              "        text-align: right;\n",
              "    }\n",
              "</style>\n",
              "<table border=\"1\" class=\"dataframe\">\n",
              "  <thead>\n",
              "    <tr style=\"text-align: right;\">\n",
              "      <th></th>\n",
              "      <th>Date</th>\n",
              "      <th>Transportation Expense</th>\n",
              "      <th>Distance to Work</th>\n",
              "      <th>Age</th>\n",
              "      <th>Daily Work Load Average</th>\n",
              "      <th>Body Mass Index</th>\n",
              "      <th>Education</th>\n",
              "      <th>Children</th>\n",
              "      <th>Pets</th>\n",
              "      <th>Absenteeism Time in Hours</th>\n",
              "      <th>Month</th>\n",
              "      <th>Day</th>\n",
              "      <th>Year</th>\n",
              "      <th>R_Known</th>\n",
              "      <th>R_NotSerious</th>\n",
              "      <th>R_Pois_unclass</th>\n",
              "      <th>R_Preg_Birth</th>\n",
              "    </tr>\n",
              "  </thead>\n",
              "  <tbody>\n",
              "    <tr>\n",
              "      <th>0</th>\n",
              "      <td>2015-07-07</td>\n",
              "      <td>289</td>\n",
              "      <td>36</td>\n",
              "      <td>33</td>\n",
              "      <td>239.554</td>\n",
              "      <td>30</td>\n",
              "      <td>1</td>\n",
              "      <td>2</td>\n",
              "      <td>1</td>\n",
              "      <td>4</td>\n",
              "      <td>7</td>\n",
              "      <td>7</td>\n",
              "      <td>2015</td>\n",
              "      <td>0</td>\n",
              "      <td>1</td>\n",
              "      <td>0</td>\n",
              "      <td>0</td>\n",
              "    </tr>\n",
              "    <tr>\n",
              "      <th>1</th>\n",
              "      <td>2015-07-14</td>\n",
              "      <td>118</td>\n",
              "      <td>13</td>\n",
              "      <td>50</td>\n",
              "      <td>239.554</td>\n",
              "      <td>31</td>\n",
              "      <td>1</td>\n",
              "      <td>1</td>\n",
              "      <td>0</td>\n",
              "      <td>0</td>\n",
              "      <td>7</td>\n",
              "      <td>14</td>\n",
              "      <td>2015</td>\n",
              "      <td>1</td>\n",
              "      <td>0</td>\n",
              "      <td>0</td>\n",
              "      <td>0</td>\n",
              "    </tr>\n",
              "    <tr>\n",
              "      <th>2</th>\n",
              "      <td>2015-07-15</td>\n",
              "      <td>179</td>\n",
              "      <td>51</td>\n",
              "      <td>38</td>\n",
              "      <td>239.554</td>\n",
              "      <td>31</td>\n",
              "      <td>1</td>\n",
              "      <td>0</td>\n",
              "      <td>0</td>\n",
              "      <td>2</td>\n",
              "      <td>7</td>\n",
              "      <td>15</td>\n",
              "      <td>2015</td>\n",
              "      <td>0</td>\n",
              "      <td>1</td>\n",
              "      <td>0</td>\n",
              "      <td>0</td>\n",
              "    </tr>\n",
              "    <tr>\n",
              "      <th>3</th>\n",
              "      <td>2015-07-16</td>\n",
              "      <td>279</td>\n",
              "      <td>5</td>\n",
              "      <td>39</td>\n",
              "      <td>239.554</td>\n",
              "      <td>24</td>\n",
              "      <td>1</td>\n",
              "      <td>2</td>\n",
              "      <td>0</td>\n",
              "      <td>4</td>\n",
              "      <td>7</td>\n",
              "      <td>16</td>\n",
              "      <td>2015</td>\n",
              "      <td>1</td>\n",
              "      <td>0</td>\n",
              "      <td>0</td>\n",
              "      <td>0</td>\n",
              "    </tr>\n",
              "    <tr>\n",
              "      <th>4</th>\n",
              "      <td>2015-07-23</td>\n",
              "      <td>289</td>\n",
              "      <td>36</td>\n",
              "      <td>33</td>\n",
              "      <td>239.554</td>\n",
              "      <td>30</td>\n",
              "      <td>1</td>\n",
              "      <td>2</td>\n",
              "      <td>1</td>\n",
              "      <td>2</td>\n",
              "      <td>7</td>\n",
              "      <td>23</td>\n",
              "      <td>2015</td>\n",
              "      <td>0</td>\n",
              "      <td>1</td>\n",
              "      <td>0</td>\n",
              "      <td>0</td>\n",
              "    </tr>\n",
              "    <tr>\n",
              "      <th>5</th>\n",
              "      <td>2015-07-10</td>\n",
              "      <td>179</td>\n",
              "      <td>51</td>\n",
              "      <td>38</td>\n",
              "      <td>239.554</td>\n",
              "      <td>31</td>\n",
              "      <td>1</td>\n",
              "      <td>0</td>\n",
              "      <td>0</td>\n",
              "      <td>2</td>\n",
              "      <td>7</td>\n",
              "      <td>10</td>\n",
              "      <td>2015</td>\n",
              "      <td>0</td>\n",
              "      <td>1</td>\n",
              "      <td>0</td>\n",
              "      <td>0</td>\n",
              "    </tr>\n",
              "    <tr>\n",
              "      <th>6</th>\n",
              "      <td>2015-07-17</td>\n",
              "      <td>361</td>\n",
              "      <td>52</td>\n",
              "      <td>28</td>\n",
              "      <td>239.554</td>\n",
              "      <td>27</td>\n",
              "      <td>1</td>\n",
              "      <td>1</td>\n",
              "      <td>4</td>\n",
              "      <td>8</td>\n",
              "      <td>7</td>\n",
              "      <td>17</td>\n",
              "      <td>2015</td>\n",
              "      <td>0</td>\n",
              "      <td>1</td>\n",
              "      <td>0</td>\n",
              "      <td>0</td>\n",
              "    </tr>\n",
              "    <tr>\n",
              "      <th>7</th>\n",
              "      <td>2015-07-24</td>\n",
              "      <td>260</td>\n",
              "      <td>50</td>\n",
              "      <td>36</td>\n",
              "      <td>239.554</td>\n",
              "      <td>23</td>\n",
              "      <td>1</td>\n",
              "      <td>4</td>\n",
              "      <td>0</td>\n",
              "      <td>4</td>\n",
              "      <td>7</td>\n",
              "      <td>24</td>\n",
              "      <td>2015</td>\n",
              "      <td>0</td>\n",
              "      <td>1</td>\n",
              "      <td>0</td>\n",
              "      <td>0</td>\n",
              "    </tr>\n",
              "    <tr>\n",
              "      <th>8</th>\n",
              "      <td>2015-07-06</td>\n",
              "      <td>155</td>\n",
              "      <td>12</td>\n",
              "      <td>34</td>\n",
              "      <td>239.554</td>\n",
              "      <td>25</td>\n",
              "      <td>1</td>\n",
              "      <td>2</td>\n",
              "      <td>0</td>\n",
              "      <td>40</td>\n",
              "      <td>7</td>\n",
              "      <td>6</td>\n",
              "      <td>2015</td>\n",
              "      <td>0</td>\n",
              "      <td>0</td>\n",
              "      <td>1</td>\n",
              "      <td>0</td>\n",
              "    </tr>\n",
              "    <tr>\n",
              "      <th>9</th>\n",
              "      <td>2015-07-13</td>\n",
              "      <td>235</td>\n",
              "      <td>11</td>\n",
              "      <td>37</td>\n",
              "      <td>239.554</td>\n",
              "      <td>29</td>\n",
              "      <td>3</td>\n",
              "      <td>1</td>\n",
              "      <td>1</td>\n",
              "      <td>8</td>\n",
              "      <td>7</td>\n",
              "      <td>13</td>\n",
              "      <td>2015</td>\n",
              "      <td>0</td>\n",
              "      <td>1</td>\n",
              "      <td>0</td>\n",
              "      <td>0</td>\n",
              "    </tr>\n",
              "  </tbody>\n",
              "</table>\n",
              "</div>"
            ],
            "text/plain": [
              "        Date  Transportation Expense  ...  R_Pois_unclass  R_Preg_Birth\n",
              "0 2015-07-07                     289  ...               0             0\n",
              "1 2015-07-14                     118  ...               0             0\n",
              "2 2015-07-15                     179  ...               0             0\n",
              "3 2015-07-16                     279  ...               0             0\n",
              "4 2015-07-23                     289  ...               0             0\n",
              "5 2015-07-10                     179  ...               0             0\n",
              "6 2015-07-17                     361  ...               0             0\n",
              "7 2015-07-24                     260  ...               0             0\n",
              "8 2015-07-06                     155  ...               1             0\n",
              "9 2015-07-13                     235  ...               0             0\n",
              "\n",
              "[10 rows x 17 columns]"
            ]
          },
          "metadata": {},
          "execution_count": 30
        }
      ]
    },
    {
      "cell_type": "code",
      "metadata": {
        "colab": {
          "base_uri": "https://localhost:8080/"
        },
        "id": "cV8ELGKsTOYL",
        "outputId": "e7839714-2547-45e2-db0c-f5ab30720619"
      },
      "source": [
        "data.isnull().sum()"
      ],
      "execution_count": 31,
      "outputs": [
        {
          "output_type": "execute_result",
          "data": {
            "text/plain": [
              "Date                         0\n",
              "Transportation Expense       0\n",
              "Distance to Work             0\n",
              "Age                          0\n",
              "Daily Work Load Average      0\n",
              "Body Mass Index              0\n",
              "Education                    0\n",
              "Children                     0\n",
              "Pets                         0\n",
              "Absenteeism Time in Hours    0\n",
              "Month                        0\n",
              "Day                          0\n",
              "Year                         0\n",
              "R_Known                      0\n",
              "R_NotSerious                 0\n",
              "R_Pois_unclass               0\n",
              "R_Preg_Birth                 0\n",
              "dtype: int64"
            ]
          },
          "metadata": {},
          "execution_count": 31
        }
      ]
    },
    {
      "cell_type": "code",
      "metadata": {
        "colab": {
          "base_uri": "https://localhost:8080/",
          "height": 1000
        },
        "id": "pKkSv4erTYgo",
        "outputId": "61689b40-4c7b-45ad-a480-0b445f2487c1"
      },
      "source": [
        "# Visulazing the distibution of the data for every feature\n",
        "data.hist(linewidth=1, edgecolor='black', figsize=(20, 20));"
      ],
      "execution_count": 32,
      "outputs": [
        {
          "output_type": "display_data",
          "data": {
            "image/png": "[encoded data removed]",
            "text/plain": [
              "<Figure size 1440x1440 with 16 Axes>"
            ]
          },
          "metadata": {
            "needs_background": "light"
          }
        }
      ]
    },
    {
      "cell_type": "code",
      "metadata": {
        "id": "Wf9nNRMXTaxz"
      },
      "source": [
        "targets = np.where(data['Absenteeism Time in Hours'] > data['Absenteeism Time in Hours'].median(),1,0)"
      ],
      "execution_count": 33,
      "outputs": []
    },
    {
      "cell_type": "code",
      "metadata": {
        "id": "2knUWan7UR9B"
      },
      "source": [
        "# creating a Series in the original data frame that will contain the targets for the regression\n",
        "data['Absenteeism'] = targets\n",
        "#Droping the old absenteesim column\n",
        "adata = data.drop(['Absenteeism Time in Hours','Date'], axis = 1)\n",
        "adata = adata.reset_index(drop=True)"
      ],
      "execution_count": 34,
      "outputs": []
    },
    {
      "cell_type": "code",
      "metadata": {
        "colab": {
          "base_uri": "https://localhost:8080/",
          "height": 450
        },
        "id": "1Iy2OeH9U_lX",
        "outputId": "30cc89c0-400e-4859-dfdd-c349f622657a"
      },
      "source": [
        "adata"
      ],
      "execution_count": 35,
      "outputs": [
        {
          "output_type": "execute_result",
          "data": {
            "text/html": [
              "<div>\n",
              "<style scoped>\n",
              "    .dataframe tbody tr th:only-of-type {\n",
              "        vertical-align: middle;\n",
              "    }\n",
              "\n",
              "    .dataframe tbody tr th {\n",
              "        vertical-align: top;\n",
              "    }\n",
              "\n",
              "    .dataframe thead th {\n",
              "        text-align: right;\n",
              "    }\n",
              "</style>\n",
              "<table border=\"1\" class=\"dataframe\">\n",
              "  <thead>\n",
              "    <tr style=\"text-align: right;\">\n",
              "      <th></th>\n",
              "      <th>Transportation Expense</th>\n",
              "      <th>Distance to Work</th>\n",
              "      <th>Age</th>\n",
              "      <th>Daily Work Load Average</th>\n",
              "      <th>Body Mass Index</th>\n",
              "      <th>Education</th>\n",
              "      <th>Children</th>\n",
              "      <th>Pets</th>\n",
              "      <th>Month</th>\n",
              "      <th>Day</th>\n",
              "      <th>Year</th>\n",
              "      <th>R_Known</th>\n",
              "      <th>R_NotSerious</th>\n",
              "      <th>R_Pois_unclass</th>\n",
              "      <th>R_Preg_Birth</th>\n",
              "      <th>Absenteeism</th>\n",
              "    </tr>\n",
              "  </thead>\n",
              "  <tbody>\n",
              "    <tr>\n",
              "      <th>0</th>\n",
              "      <td>289</td>\n",
              "      <td>36</td>\n",
              "      <td>33</td>\n",
              "      <td>239.554</td>\n",
              "      <td>30</td>\n",
              "      <td>1</td>\n",
              "      <td>2</td>\n",
              "      <td>1</td>\n",
              "      <td>7</td>\n",
              "      <td>7</td>\n",
              "      <td>2015</td>\n",
              "      <td>0</td>\n",
              "      <td>1</td>\n",
              "      <td>0</td>\n",
              "      <td>0</td>\n",
              "      <td>1</td>\n",
              "    </tr>\n",
              "    <tr>\n",
              "      <th>1</th>\n",
              "      <td>118</td>\n",
              "      <td>13</td>\n",
              "      <td>50</td>\n",
              "      <td>239.554</td>\n",
              "      <td>31</td>\n",
              "      <td>1</td>\n",
              "      <td>1</td>\n",
              "      <td>0</td>\n",
              "      <td>7</td>\n",
              "      <td>14</td>\n",
              "      <td>2015</td>\n",
              "      <td>1</td>\n",
              "      <td>0</td>\n",
              "      <td>0</td>\n",
              "      <td>0</td>\n",
              "      <td>0</td>\n",
              "    </tr>\n",
              "    <tr>\n",
              "      <th>2</th>\n",
              "      <td>179</td>\n",
              "      <td>51</td>\n",
              "      <td>38</td>\n",
              "      <td>239.554</td>\n",
              "      <td>31</td>\n",
              "      <td>1</td>\n",
              "      <td>0</td>\n",
              "      <td>0</td>\n",
              "      <td>7</td>\n",
              "      <td>15</td>\n",
              "      <td>2015</td>\n",
              "      <td>0</td>\n",
              "      <td>1</td>\n",
              "      <td>0</td>\n",
              "      <td>0</td>\n",
              "      <td>0</td>\n",
              "    </tr>\n",
              "    <tr>\n",
              "      <th>3</th>\n",
              "      <td>279</td>\n",
              "      <td>5</td>\n",
              "      <td>39</td>\n",
              "      <td>239.554</td>\n",
              "      <td>24</td>\n",
              "      <td>1</td>\n",
              "      <td>2</td>\n",
              "      <td>0</td>\n",
              "      <td>7</td>\n",
              "      <td>16</td>\n",
              "      <td>2015</td>\n",
              "      <td>1</td>\n",
              "      <td>0</td>\n",
              "      <td>0</td>\n",
              "      <td>0</td>\n",
              "      <td>1</td>\n",
              "    </tr>\n",
              "    <tr>\n",
              "      <th>4</th>\n",
              "      <td>289</td>\n",
              "      <td>36</td>\n",
              "      <td>33</td>\n",
              "      <td>239.554</td>\n",
              "      <td>30</td>\n",
              "      <td>1</td>\n",
              "      <td>2</td>\n",
              "      <td>1</td>\n",
              "      <td>7</td>\n",
              "      <td>23</td>\n",
              "      <td>2015</td>\n",
              "      <td>0</td>\n",
              "      <td>1</td>\n",
              "      <td>0</td>\n",
              "      <td>0</td>\n",
              "      <td>0</td>\n",
              "    </tr>\n",
              "    <tr>\n",
              "      <th>...</th>\n",
              "      <td>...</td>\n",
              "      <td>...</td>\n",
              "      <td>...</td>\n",
              "      <td>...</td>\n",
              "      <td>...</td>\n",
              "      <td>...</td>\n",
              "      <td>...</td>\n",
              "      <td>...</td>\n",
              "      <td>...</td>\n",
              "      <td>...</td>\n",
              "      <td>...</td>\n",
              "      <td>...</td>\n",
              "      <td>...</td>\n",
              "      <td>...</td>\n",
              "      <td>...</td>\n",
              "      <td>...</td>\n",
              "    </tr>\n",
              "    <tr>\n",
              "      <th>694</th>\n",
              "      <td>179</td>\n",
              "      <td>22</td>\n",
              "      <td>40</td>\n",
              "      <td>237.656</td>\n",
              "      <td>22</td>\n",
              "      <td>2</td>\n",
              "      <td>2</td>\n",
              "      <td>0</td>\n",
              "      <td>5</td>\n",
              "      <td>23</td>\n",
              "      <td>2018</td>\n",
              "      <td>1</td>\n",
              "      <td>0</td>\n",
              "      <td>0</td>\n",
              "      <td>0</td>\n",
              "      <td>1</td>\n",
              "    </tr>\n",
              "    <tr>\n",
              "      <th>695</th>\n",
              "      <td>225</td>\n",
              "      <td>26</td>\n",
              "      <td>28</td>\n",
              "      <td>237.656</td>\n",
              "      <td>24</td>\n",
              "      <td>1</td>\n",
              "      <td>1</td>\n",
              "      <td>2</td>\n",
              "      <td>5</td>\n",
              "      <td>23</td>\n",
              "      <td>2018</td>\n",
              "      <td>1</td>\n",
              "      <td>0</td>\n",
              "      <td>0</td>\n",
              "      <td>0</td>\n",
              "      <td>0</td>\n",
              "    </tr>\n",
              "    <tr>\n",
              "      <th>696</th>\n",
              "      <td>330</td>\n",
              "      <td>16</td>\n",
              "      <td>28</td>\n",
              "      <td>237.656</td>\n",
              "      <td>25</td>\n",
              "      <td>2</td>\n",
              "      <td>0</td>\n",
              "      <td>0</td>\n",
              "      <td>5</td>\n",
              "      <td>24</td>\n",
              "      <td>2018</td>\n",
              "      <td>1</td>\n",
              "      <td>0</td>\n",
              "      <td>0</td>\n",
              "      <td>0</td>\n",
              "      <td>1</td>\n",
              "    </tr>\n",
              "    <tr>\n",
              "      <th>697</th>\n",
              "      <td>235</td>\n",
              "      <td>16</td>\n",
              "      <td>32</td>\n",
              "      <td>237.656</td>\n",
              "      <td>25</td>\n",
              "      <td>3</td>\n",
              "      <td>0</td>\n",
              "      <td>0</td>\n",
              "      <td>5</td>\n",
              "      <td>24</td>\n",
              "      <td>2018</td>\n",
              "      <td>0</td>\n",
              "      <td>1</td>\n",
              "      <td>0</td>\n",
              "      <td>0</td>\n",
              "      <td>0</td>\n",
              "    </tr>\n",
              "    <tr>\n",
              "      <th>698</th>\n",
              "      <td>291</td>\n",
              "      <td>31</td>\n",
              "      <td>40</td>\n",
              "      <td>237.656</td>\n",
              "      <td>25</td>\n",
              "      <td>1</td>\n",
              "      <td>1</td>\n",
              "      <td>1</td>\n",
              "      <td>5</td>\n",
              "      <td>31</td>\n",
              "      <td>2018</td>\n",
              "      <td>0</td>\n",
              "      <td>1</td>\n",
              "      <td>0</td>\n",
              "      <td>0</td>\n",
              "      <td>0</td>\n",
              "    </tr>\n",
              "  </tbody>\n",
              "</table>\n",
              "<p>699 rows × 16 columns</p>\n",
              "</div>"
            ],
            "text/plain": [
              "     Transportation Expense  Distance to Work  ...  R_Preg_Birth  Absenteeism\n",
              "0                       289                36  ...             0            1\n",
              "1                       118                13  ...             0            0\n",
              "2                       179                51  ...             0            0\n",
              "3                       279                 5  ...             0            1\n",
              "4                       289                36  ...             0            0\n",
              "..                      ...               ...  ...           ...          ...\n",
              "694                     179                22  ...             0            1\n",
              "695                     225                26  ...             0            0\n",
              "696                     330                16  ...             0            1\n",
              "697                     235                16  ...             0            0\n",
              "698                     291                31  ...             0            0\n",
              "\n",
              "[699 rows x 16 columns]"
            ]
          },
          "metadata": {},
          "execution_count": 35
        }
      ]
    },
    {
      "cell_type": "code",
      "metadata": {
        "id": "-dyU7OMBVHry"
      },
      "source": [
        "unscaled_inputs = adata.iloc[:,:-1]\n",
        "targets = adata['Absenteeism']"
      ],
      "execution_count": 36,
      "outputs": []
    },
    {
      "cell_type": "markdown",
      "metadata": {
        "id": "Q2oxlIpdVMZc"
      },
      "source": [
        "####Standardise data"
      ]
    },
    {
      "cell_type": "code",
      "metadata": {
        "id": "sDW32S-PVSqf"
      },
      "source": [
        "absenteeism_scaler = StandardScaler()"
      ],
      "execution_count": 37,
      "outputs": []
    },
    {
      "cell_type": "code",
      "metadata": {
        "id": "ukl27FnhVTwT"
      },
      "source": [
        "\n",
        "class CustomScaler(BaseEstimator,TransformerMixin): \n",
        "    \n",
        "    # init or what information we need to declare a CustomScaler object\n",
        "    # and what is calculated/declared as we do\n",
        "    \n",
        "    def __init__(self,columns,copy=True,with_mean=True,with_std=True):\n",
        "        \n",
        "        # scaler is nothing but a Standard Scaler object\n",
        "        self.scaler = StandardScaler(copy,with_mean,with_std)\n",
        "        # with some columns 'twist'\n",
        "        self.columns = columns\n",
        "        self.mean_ = None\n",
        "        self.var_ = None\n",
        "        \n",
        "    \n",
        "    # the fit method, which, again based on StandardScale\n",
        "    \n",
        "    def fit(self, X, y=None):\n",
        "        self.scaler.fit(X[self.columns], y)\n",
        "        self.mean_ = np.mean(X[self.columns])\n",
        "        self.var_ = np.var(X[self.columns])\n",
        "        return self\n",
        "    \n",
        "    # the transform method which does the actual scaling\n",
        "\n",
        "    def transform(self, X, y=None, copy=None):\n",
        "        \n",
        "        # record the initial order of the columns\n",
        "        init_col_order = X.columns\n",
        "        \n",
        "        # scale all features that you chose when creating the instance of the class\n",
        "        X_scaled = pd.DataFrame(self.scaler.transform(X[self.columns]), columns=self.columns)\n",
        "        \n",
        "        # declare a variable containing all information that was not scaled\n",
        "        X_not_scaled = X.loc[:,~X.columns.isin(self.columns)]\n",
        "        \n",
        "        # return a data frame which contains all scaled features and all 'not scaled' features\n",
        "        # use the original order (that you recorded in the beginning)\n",
        "        return pd.concat([X_not_scaled, X_scaled], axis=1)[init_col_order]"
      ],
      "execution_count": 38,
      "outputs": []
    },
    {
      "cell_type": "code",
      "metadata": {
        "id": "HvDuFX_wVdeR"
      },
      "source": [
        "columns_to_omit = ['R_Known', 'R_NotSerious', 'R_Pois_unclass', 'R_Preg_Birth','Education']"
      ],
      "execution_count": 39,
      "outputs": []
    },
    {
      "cell_type": "code",
      "metadata": {
        "id": "oXsQvGzrViMJ"
      },
      "source": [
        "columns_to_scale = [x for x in unscaled_inputs.columns.values if x not in columns_to_omit]"
      ],
      "execution_count": 40,
      "outputs": []
    },
    {
      "cell_type": "code",
      "metadata": {
        "colab": {
          "base_uri": "https://localhost:8080/"
        },
        "id": "5rP32kKWVqr-",
        "outputId": "9e4ffdf0-2e82-4e06-ea40-043e63f7ae4b"
      },
      "source": [
        "# declare a scaler object, specifying the columns you want to scale\n",
        "absenteeism_scaler = CustomScaler(columns_to_scale)\n",
        "# fit the data (calculate mean and standard deviation); they are automatically stored inside the object \n",
        "absenteeism_scaler.fit(unscaled_inputs)\n"
      ],
      "execution_count": 41,
      "outputs": [
        {
          "output_type": "stream",
          "text": [
            "/usr/local/lib/python3.7/dist-packages/sklearn/base.py:197: FutureWarning: From version 0.24, get_params will raise an AttributeError if a parameter cannot be retrieved as an instance attribute. Previously it would return None.\n",
            "  FutureWarning)\n"
          ],
          "name": "stderr"
        },
        {
          "output_type": "execute_result",
          "data": {
            "text/plain": [
              "CustomScaler(columns=['Transportation Expense', 'Distance to Work', 'Age',\n",
              "                      'Daily Work Load Average', 'Body Mass Index', 'Children',\n",
              "                      'Pets', 'Month', 'Day', 'Year'],\n",
              "             copy=None, with_mean=None, with_std=None)"
            ]
          },
          "metadata": {},
          "execution_count": 41
        }
      ]
    },
    {
      "cell_type": "code",
      "metadata": {
        "id": "xH5aGOx2W-66"
      },
      "source": [
        "scaled_inputs = absenteeism_scaler.transform(unscaled_inputs)"
      ],
      "execution_count": 42,
      "outputs": []
    },
    {
      "cell_type": "code",
      "metadata": {
        "colab": {
          "base_uri": "https://localhost:8080/",
          "height": 467
        },
        "id": "EJzlyb3AXDhu",
        "outputId": "6d2f142d-d521-4faa-f17d-1e10d9faa6a8"
      },
      "source": [
        "scaled_inputs"
      ],
      "execution_count": 43,
      "outputs": [
        {
          "output_type": "execute_result",
          "data": {
            "text/html": [
              "<div>\n",
              "<style scoped>\n",
              "    .dataframe tbody tr th:only-of-type {\n",
              "        vertical-align: middle;\n",
              "    }\n",
              "\n",
              "    .dataframe tbody tr th {\n",
              "        vertical-align: top;\n",
              "    }\n",
              "\n",
              "    .dataframe thead th {\n",
              "        text-align: right;\n",
              "    }\n",
              "</style>\n",
              "<table border=\"1\" class=\"dataframe\">\n",
              "  <thead>\n",
              "    <tr style=\"text-align: right;\">\n",
              "      <th></th>\n",
              "      <th>Transportation Expense</th>\n",
              "      <th>Distance to Work</th>\n",
              "      <th>Age</th>\n",
              "      <th>Daily Work Load Average</th>\n",
              "      <th>Body Mass Index</th>\n",
              "      <th>Education</th>\n",
              "      <th>Children</th>\n",
              "      <th>Pets</th>\n",
              "      <th>Month</th>\n",
              "      <th>Day</th>\n",
              "      <th>Year</th>\n",
              "      <th>R_Known</th>\n",
              "      <th>R_NotSerious</th>\n",
              "      <th>R_Pois_unclass</th>\n",
              "      <th>R_Preg_Birth</th>\n",
              "    </tr>\n",
              "  </thead>\n",
              "  <tbody>\n",
              "    <tr>\n",
              "      <th>0</th>\n",
              "      <td>1.004498</td>\n",
              "      <td>0.415165</td>\n",
              "      <td>-0.535348</td>\n",
              "      <td>-0.809684</td>\n",
              "      <td>0.768869</td>\n",
              "      <td>1</td>\n",
              "      <td>0.879058</td>\n",
              "      <td>0.267518</td>\n",
              "      <td>0.183294</td>\n",
              "      <td>-1.101984</td>\n",
              "      <td>-1.560806</td>\n",
              "      <td>0</td>\n",
              "      <td>1</td>\n",
              "      <td>0</td>\n",
              "      <td>0</td>\n",
              "    </tr>\n",
              "    <tr>\n",
              "      <th>1</th>\n",
              "      <td>-1.574973</td>\n",
              "      <td>-1.140689</td>\n",
              "      <td>2.129730</td>\n",
              "      <td>-0.809684</td>\n",
              "      <td>1.004073</td>\n",
              "      <td>1</td>\n",
              "      <td>-0.020593</td>\n",
              "      <td>-0.590258</td>\n",
              "      <td>0.183294</td>\n",
              "      <td>-0.226374</td>\n",
              "      <td>-1.560806</td>\n",
              "      <td>1</td>\n",
              "      <td>0</td>\n",
              "      <td>0</td>\n",
              "      <td>0</td>\n",
              "    </tr>\n",
              "    <tr>\n",
              "      <th>2</th>\n",
              "      <td>-0.654811</td>\n",
              "      <td>1.429853</td>\n",
              "      <td>0.248498</td>\n",
              "      <td>-0.809684</td>\n",
              "      <td>1.004073</td>\n",
              "      <td>1</td>\n",
              "      <td>-0.920243</td>\n",
              "      <td>-0.590258</td>\n",
              "      <td>0.183294</td>\n",
              "      <td>-0.101287</td>\n",
              "      <td>-1.560806</td>\n",
              "      <td>0</td>\n",
              "      <td>1</td>\n",
              "      <td>0</td>\n",
              "      <td>0</td>\n",
              "    </tr>\n",
              "    <tr>\n",
              "      <th>3</th>\n",
              "      <td>0.853652</td>\n",
              "      <td>-1.681856</td>\n",
              "      <td>0.405268</td>\n",
              "      <td>-0.809684</td>\n",
              "      <td>-0.642351</td>\n",
              "      <td>1</td>\n",
              "      <td>0.879058</td>\n",
              "      <td>-0.590258</td>\n",
              "      <td>0.183294</td>\n",
              "      <td>0.023801</td>\n",
              "      <td>-1.560806</td>\n",
              "      <td>1</td>\n",
              "      <td>0</td>\n",
              "      <td>0</td>\n",
              "      <td>0</td>\n",
              "    </tr>\n",
              "    <tr>\n",
              "      <th>4</th>\n",
              "      <td>1.004498</td>\n",
              "      <td>0.415165</td>\n",
              "      <td>-0.535348</td>\n",
              "      <td>-0.809684</td>\n",
              "      <td>0.768869</td>\n",
              "      <td>1</td>\n",
              "      <td>0.879058</td>\n",
              "      <td>0.267518</td>\n",
              "      <td>0.183294</td>\n",
              "      <td>0.899411</td>\n",
              "      <td>-1.560806</td>\n",
              "      <td>0</td>\n",
              "      <td>1</td>\n",
              "      <td>0</td>\n",
              "      <td>0</td>\n",
              "    </tr>\n",
              "    <tr>\n",
              "      <th>...</th>\n",
              "      <td>...</td>\n",
              "      <td>...</td>\n",
              "      <td>...</td>\n",
              "      <td>...</td>\n",
              "      <td>...</td>\n",
              "      <td>...</td>\n",
              "      <td>...</td>\n",
              "      <td>...</td>\n",
              "      <td>...</td>\n",
              "      <td>...</td>\n",
              "      <td>...</td>\n",
              "      <td>...</td>\n",
              "      <td>...</td>\n",
              "      <td>...</td>\n",
              "      <td>...</td>\n",
              "    </tr>\n",
              "    <tr>\n",
              "      <th>694</th>\n",
              "      <td>-0.654811</td>\n",
              "      <td>-0.531876</td>\n",
              "      <td>0.562037</td>\n",
              "      <td>-0.857200</td>\n",
              "      <td>-1.112757</td>\n",
              "      <td>2</td>\n",
              "      <td>0.879058</td>\n",
              "      <td>-0.590258</td>\n",
              "      <td>-0.387407</td>\n",
              "      <td>0.899411</td>\n",
              "      <td>1.529856</td>\n",
              "      <td>1</td>\n",
              "      <td>0</td>\n",
              "      <td>0</td>\n",
              "      <td>0</td>\n",
              "    </tr>\n",
              "    <tr>\n",
              "      <th>695</th>\n",
              "      <td>0.039082</td>\n",
              "      <td>-0.261293</td>\n",
              "      <td>-1.319194</td>\n",
              "      <td>-0.857200</td>\n",
              "      <td>-0.642351</td>\n",
              "      <td>1</td>\n",
              "      <td>-0.020593</td>\n",
              "      <td>1.125295</td>\n",
              "      <td>-0.387407</td>\n",
              "      <td>0.899411</td>\n",
              "      <td>1.529856</td>\n",
              "      <td>1</td>\n",
              "      <td>0</td>\n",
              "      <td>0</td>\n",
              "      <td>0</td>\n",
              "    </tr>\n",
              "    <tr>\n",
              "      <th>696</th>\n",
              "      <td>1.622968</td>\n",
              "      <td>-0.937751</td>\n",
              "      <td>-1.319194</td>\n",
              "      <td>-0.857200</td>\n",
              "      <td>-0.407147</td>\n",
              "      <td>2</td>\n",
              "      <td>-0.920243</td>\n",
              "      <td>-0.590258</td>\n",
              "      <td>-0.387407</td>\n",
              "      <td>1.024498</td>\n",
              "      <td>1.529856</td>\n",
              "      <td>1</td>\n",
              "      <td>0</td>\n",
              "      <td>0</td>\n",
              "      <td>0</td>\n",
              "    </tr>\n",
              "    <tr>\n",
              "      <th>697</th>\n",
              "      <td>0.189928</td>\n",
              "      <td>-0.937751</td>\n",
              "      <td>-0.692117</td>\n",
              "      <td>-0.857200</td>\n",
              "      <td>-0.407147</td>\n",
              "      <td>3</td>\n",
              "      <td>-0.920243</td>\n",
              "      <td>-0.590258</td>\n",
              "      <td>-0.387407</td>\n",
              "      <td>1.024498</td>\n",
              "      <td>1.529856</td>\n",
              "      <td>0</td>\n",
              "      <td>1</td>\n",
              "      <td>0</td>\n",
              "      <td>0</td>\n",
              "    </tr>\n",
              "    <tr>\n",
              "      <th>698</th>\n",
              "      <td>1.034667</td>\n",
              "      <td>0.076936</td>\n",
              "      <td>0.562037</td>\n",
              "      <td>-0.857200</td>\n",
              "      <td>-0.407147</td>\n",
              "      <td>1</td>\n",
              "      <td>-0.020593</td>\n",
              "      <td>0.267518</td>\n",
              "      <td>-0.387407</td>\n",
              "      <td>1.900108</td>\n",
              "      <td>1.529856</td>\n",
              "      <td>0</td>\n",
              "      <td>1</td>\n",
              "      <td>0</td>\n",
              "      <td>0</td>\n",
              "    </tr>\n",
              "  </tbody>\n",
              "</table>\n",
              "<p>699 rows × 15 columns</p>\n",
              "</div>"
            ],
            "text/plain": [
              "     Transportation Expense  Distance to Work  ...  R_Pois_unclass  R_Preg_Birth\n",
              "0                  1.004498          0.415165  ...               0             0\n",
              "1                 -1.574973         -1.140689  ...               0             0\n",
              "2                 -0.654811          1.429853  ...               0             0\n",
              "3                  0.853652         -1.681856  ...               0             0\n",
              "4                  1.004498          0.415165  ...               0             0\n",
              "..                      ...               ...  ...             ...           ...\n",
              "694               -0.654811         -0.531876  ...               0             0\n",
              "695                0.039082         -0.261293  ...               0             0\n",
              "696                1.622968         -0.937751  ...               0             0\n",
              "697                0.189928         -0.937751  ...               0             0\n",
              "698                1.034667          0.076936  ...               0             0\n",
              "\n",
              "[699 rows x 15 columns]"
            ]
          },
          "metadata": {},
          "execution_count": 43
        }
      ]
    },
    {
      "cell_type": "code",
      "metadata": {
        "colab": {
          "base_uri": "https://localhost:8080/"
        },
        "id": "6NXzOGauXHqt",
        "outputId": "1ed31324-bb80-4eae-9d42-9fc3ee308929"
      },
      "source": [
        "# splitting data for training and testing\n",
        "train_test_split(scaled_inputs, targets)\n",
        "\n",
        "x_train, x_test, y_train, y_test = train_test_split(scaled_inputs, targets,  test_size = 0.3, random_state = 17)\n",
        "# check the shape of the train inputs and targets\n",
        "print (x_train.shape, y_train.shape)"
      ],
      "execution_count": 44,
      "outputs": [
        {
          "output_type": "stream",
          "text": [
            "(489, 15) (489,)\n"
          ],
          "name": "stdout"
        }
      ]
    },
    {
      "cell_type": "code",
      "metadata": {
        "colab": {
          "base_uri": "https://localhost:8080/"
        },
        "id": "e8kUqHRcXz65",
        "outputId": "cb35f743-a7b5-420e-f5f2-e8096b4092f9"
      },
      "source": [
        "print (x_test.shape, y_test.shape)"
      ],
      "execution_count": 45,
      "outputs": [
        {
          "output_type": "stream",
          "text": [
            "(210, 15) (210,)\n"
          ],
          "name": "stdout"
        }
      ]
    },
    {
      "cell_type": "code",
      "metadata": {
        "id": "TYw-TeLLX4iY"
      },
      "source": [
        "#Now, we will create an array of Classifiers and append different classification models to our array\n",
        "classifiers = [] \n",
        "\n",
        "mod1 = xgboost.XGBClassifier()\n",
        "classifiers.append(mod1)\n",
        "mod2 = svm.SVC()\n",
        "classifiers.append(mod2)\n",
        "mod3 = RandomForestClassifier()\n",
        "classifiers.append(mod3)\n",
        "mod4 = LogisticRegression()\n",
        "classifiers.append(mod4)\n",
        "mod5 = KNeighborsClassifier(3)\n",
        "classifiers.append(mod5)\n",
        "mod6 = AdaBoostClassifier()\n",
        "classifiers.append(mod6)\n",
        "mod7= GaussianNB()\n",
        "classifiers.append(mod7)"
      ],
      "execution_count": 46,
      "outputs": []
    },
    {
      "cell_type": "code",
      "metadata": {
        "colab": {
          "base_uri": "https://localhost:8080/"
        },
        "id": "K_DbSaqnYCsw",
        "outputId": "30f00754-f851-4e91-f4e9-85b21d0652fe"
      },
      "source": [
        "#Lets fit the models into anarray\n",
        "\n",
        "for clf in classifiers:\n",
        "    clf.fit(x_train,y_train)\n",
        "    y_pred= clf.predict(x_test)\n",
        "    y_tr = clf.predict(x_train)\n",
        "    acc_tr = accuracy_score(y_train, y_tr)\n",
        "    acc = accuracy_score(y_test, y_pred)\n",
        "    mn = type(clf).__name__\n",
        "    \n",
        "    print(clf)\n",
        "    print(f\"Accuracy of trainset {mn} is {acc_tr}\")\n",
        "    print(f\"Accuracy of testset {mn} is {acc}\")\n",
        "    cm = confusion_matrix(y_test, y_pred)\n",
        "    print(f\"Confusion Matrix of testset {mn} is {cm}\")\n",
        "    print('____________________________________________________________________________________')\n"
      ],
      "execution_count": 47,
      "outputs": [
        {
          "output_type": "stream",
          "text": [
            "XGBClassifier(base_score=0.5, booster='gbtree', colsample_bylevel=1,\n",
            "              colsample_bynode=1, colsample_bytree=1, gamma=0,\n",
            "              learning_rate=0.1, max_delta_step=0, max_depth=3,\n",
            "              min_child_weight=1, missing=None, n_estimators=100, n_jobs=1,\n",
            "              nthread=None, objective='binary:logistic', random_state=0,\n",
            "              reg_alpha=0, reg_lambda=1, scale_pos_weight=1, seed=None,\n",
            "              silent=None, subsample=1, verbosity=1)\n",
            "Accuracy of trainset XGBClassifier is 0.8425357873210634\n",
            "Accuracy of testset XGBClassifier is 0.7047619047619048\n",
            "Confusion Matrix of testset XGBClassifier is [[92 30]\n",
            " [32 56]]\n",
            "____________________________________________________________________________________\n",
            "SVC(C=1.0, break_ties=False, cache_size=200, class_weight=None, coef0=0.0,\n",
            "    decision_function_shape='ovr', degree=3, gamma='scale', kernel='rbf',\n",
            "    max_iter=-1, probability=False, random_state=None, shrinking=True,\n",
            "    tol=0.001, verbose=False)\n",
            "Accuracy of trainset SVC is 0.8016359918200409\n",
            "Accuracy of testset SVC is 0.7047619047619048\n",
            "Confusion Matrix of testset SVC is [[90 32]\n",
            " [30 58]]\n",
            "____________________________________________________________________________________\n",
            "RandomForestClassifier(bootstrap=True, ccp_alpha=0.0, class_weight=None,\n",
            "                       criterion='gini', max_depth=None, max_features='auto',\n",
            "                       max_leaf_nodes=None, max_samples=None,\n",
            "                       min_impurity_decrease=0.0, min_impurity_split=None,\n",
            "                       min_samples_leaf=1, min_samples_split=2,\n",
            "                       min_weight_fraction_leaf=0.0, n_estimators=100,\n",
            "                       n_jobs=None, oob_score=False, random_state=None,\n",
            "                       verbose=0, warm_start=False)\n",
            "Accuracy of trainset RandomForestClassifier is 1.0\n",
            "Accuracy of testset RandomForestClassifier is 0.7285714285714285\n",
            "Confusion Matrix of testset RandomForestClassifier is [[92 30]\n",
            " [27 61]]\n",
            "____________________________________________________________________________________\n",
            "LogisticRegression(C=1.0, class_weight=None, dual=False, fit_intercept=True,\n",
            "                   intercept_scaling=1, l1_ratio=None, max_iter=100,\n",
            "                   multi_class='auto', n_jobs=None, penalty='l2',\n",
            "                   random_state=None, solver='lbfgs', tol=0.0001, verbose=0,\n",
            "                   warm_start=False)\n",
            "Accuracy of trainset LogisticRegression is 0.7423312883435583\n",
            "Accuracy of testset LogisticRegression is 0.6523809523809524\n",
            "Confusion Matrix of testset LogisticRegression is [[88 34]\n",
            " [39 49]]\n",
            "____________________________________________________________________________________\n",
            "KNeighborsClassifier(algorithm='auto', leaf_size=30, metric='minkowski',\n",
            "                     metric_params=None, n_jobs=None, n_neighbors=3, p=2,\n",
            "                     weights='uniform')\n",
            "Accuracy of trainset KNeighborsClassifier is 0.8282208588957055\n",
            "Accuracy of testset KNeighborsClassifier is 0.6523809523809524\n",
            "Confusion Matrix of testset KNeighborsClassifier is [[90 32]\n",
            " [41 47]]\n",
            "____________________________________________________________________________________\n",
            "AdaBoostClassifier(algorithm='SAMME.R', base_estimator=None, learning_rate=1.0,\n",
            "                   n_estimators=50, random_state=None)\n",
            "Accuracy of trainset AdaBoostClassifier is 0.7484662576687117\n",
            "Accuracy of testset AdaBoostClassifier is 0.6857142857142857\n",
            "Confusion Matrix of testset AdaBoostClassifier is [[95 27]\n",
            " [39 49]]\n",
            "____________________________________________________________________________________\n",
            "GaussianNB(priors=None, var_smoothing=1e-09)\n",
            "Accuracy of trainset GaussianNB is 0.7198364008179959\n",
            "Accuracy of testset GaussianNB is 0.6428571428571429\n",
            "Confusion Matrix of testset GaussianNB is [[95 27]\n",
            " [48 40]]\n",
            "____________________________________________________________________________________\n"
          ],
          "name": "stdout"
        }
      ]
    },
    {
      "cell_type": "markdown",
      "metadata": {
        "id": "Vw9fCG8zYJkh"
      },
      "source": [
        "**Here the ensemble method works good. RandomForestClassifier works well in this case**\n",
        "\n"
      ]
    },
    {
      "cell_type": "code",
      "metadata": {
        "id": "VsKpfB4xaUg_"
      },
      "source": [
        "from sklearn.model_selection import RandomizedSearchCV\n",
        "# Number of trees in random forest\n",
        "n_estimators = [int(x) for x in np.linspace(start = 200, stop = 2000, num = 10)]\n",
        "# Number of features to consider at every split\n",
        "max_features = ['auto', 'sqrt']\n",
        "# Maximum number of levels in tree\n",
        "max_depth = [int(x) for x in np.linspace(10, 110, num = 11)]\n",
        "max_depth.append(None)\n",
        "# Minimum number of samples required to split a node\n",
        "min_samples_split = [2, 5, 10]\n",
        "# Minimum number of samples required at each leaf node\n",
        "min_samples_leaf = [1, 2, 4]\n",
        "# Method of selecting samples for training each tree\n",
        "bootstrap = [True, False]\n",
        "# Create the random grid\n",
        "random_grid = {'n_estimators': n_estimators,\n",
        "               'max_features': max_features,\n",
        "               'max_depth': max_depth,\n",
        "               'min_samples_split': min_samples_split,\n",
        "               'min_samples_leaf': min_samples_leaf,\n",
        "               'bootstrap': bootstrap}\n"
      ],
      "execution_count": 48,
      "outputs": []
    },
    {
      "cell_type": "code",
      "metadata": {
        "colab": {
          "base_uri": "https://localhost:8080/"
        },
        "id": "BCs1NBxybsVO",
        "outputId": "8e16c58a-1bca-47ae-9ca3-7638f0cbd8a7"
      },
      "source": [
        "print(random_grid)"
      ],
      "execution_count": 49,
      "outputs": [
        {
          "output_type": "stream",
          "text": [
            "{'n_estimators': [200, 400, 600, 800, 1000, 1200, 1400, 1600, 1800, 2000], 'max_features': ['auto', 'sqrt'], 'max_depth': [10, 20, 30, 40, 50, 60, 70, 80, 90, 100, 110, None], 'min_samples_split': [2, 5, 10], 'min_samples_leaf': [1, 2, 4], 'bootstrap': [True, False]}\n"
          ],
          "name": "stdout"
        }
      ]
    },
    {
      "cell_type": "code",
      "metadata": {
        "colab": {
          "base_uri": "https://localhost:8080/"
        },
        "id": "N608s62Eb3jF",
        "outputId": "8274f762-29bc-4d56-cc83-24d07501bae4"
      },
      "source": [
        "# Use the random grid to search for best hyperparameters\n",
        "# First create the base model to tune\n",
        "rf = RandomForestClassifier()\n",
        "# Random search of parameters, using 3 fold cross validation, \n",
        "# search across 100 different combinations, and use all available cores\n",
        "rf_random = RandomizedSearchCV(estimator = rf, param_distributions = random_grid, n_iter = 100, cv = 3, verbose=2, random_state=42, n_jobs = -1)\n",
        "# Fit the random search model\n",
        "rf_random.fit(x_train, y_train)"
      ],
      "execution_count": 52,
      "outputs": [
        {
          "output_type": "stream",
          "text": [
            "Fitting 3 folds for each of 100 candidates, totalling 300 fits\n"
          ],
          "name": "stdout"
        },
        {
          "output_type": "stream",
          "text": [
            "[Parallel(n_jobs=-1)]: Using backend LokyBackend with 2 concurrent workers.\n",
            "[Parallel(n_jobs=-1)]: Done  37 tasks      | elapsed:   52.8s\n",
            "[Parallel(n_jobs=-1)]: Done 158 tasks      | elapsed:  3.6min\n",
            "[Parallel(n_jobs=-1)]: Done 300 out of 300 | elapsed:  6.8min finished\n"
          ],
          "name": "stderr"
        },
        {
          "output_type": "execute_result",
          "data": {
            "text/plain": [
              "RandomizedSearchCV(cv=3, error_score=nan,\n",
              "                   estimator=RandomForestClassifier(bootstrap=True,\n",
              "                                                    ccp_alpha=0.0,\n",
              "                                                    class_weight=None,\n",
              "                                                    criterion='gini',\n",
              "                                                    max_depth=None,\n",
              "                                                    max_features='auto',\n",
              "                                                    max_leaf_nodes=None,\n",
              "                                                    max_samples=None,\n",
              "                                                    min_impurity_decrease=0.0,\n",
              "                                                    min_impurity_split=None,\n",
              "                                                    min_samples_leaf=1,\n",
              "                                                    min_samples_split=2,\n",
              "                                                    min_weight_fraction_leaf=0.0,\n",
              "                                                    n_estimators=100,\n",
              "                                                    n_jobs...\n",
              "                   param_distributions={'bootstrap': [True, False],\n",
              "                                        'max_depth': [10, 20, 30, 40, 50, 60,\n",
              "                                                      70, 80, 90, 100, 110,\n",
              "                                                      None],\n",
              "                                        'max_features': ['auto', 'sqrt'],\n",
              "                                        'min_samples_leaf': [1, 2, 4],\n",
              "                                        'min_samples_split': [2, 5, 10],\n",
              "                                        'n_estimators': [200, 400, 600, 800,\n",
              "                                                         1000, 1200, 1400, 1600,\n",
              "                                                         1800, 2000]},\n",
              "                   pre_dispatch='2*n_jobs', random_state=42, refit=True,\n",
              "                   return_train_score=False, scoring=None, verbose=2)"
            ]
          },
          "metadata": {},
          "execution_count": 52
        }
      ]
    },
    {
      "cell_type": "code",
      "metadata": {
        "id": "tl8-G0O9lSAe",
        "colab": {
          "base_uri": "https://localhost:8080/"
        },
        "outputId": "31b0aae2-d4af-4167-8f25-fdde219efa3e"
      },
      "source": [
        "rf_random.best_params_"
      ],
      "execution_count": 53,
      "outputs": [
        {
          "output_type": "execute_result",
          "data": {
            "text/plain": [
              "{'bootstrap': False,\n",
              " 'max_depth': 110,\n",
              " 'max_features': 'auto',\n",
              " 'min_samples_leaf': 2,\n",
              " 'min_samples_split': 10,\n",
              " 'n_estimators': 1800}"
            ]
          },
          "metadata": {},
          "execution_count": 53
        }
      ]
    },
    {
      "cell_type": "code",
      "metadata": {
        "colab": {
          "base_uri": "https://localhost:8080/"
        },
        "id": "8K--uP0PotMs",
        "outputId": "78f9ae6b-6b91-4c26-d863-a47d4bb62026"
      },
      "source": [
        "rf_random.best_score_"
      ],
      "execution_count": 55,
      "outputs": [
        {
          "output_type": "execute_result",
          "data": {
            "text/plain": [
              "0.752556237218814"
            ]
          },
          "metadata": {},
          "execution_count": 55
        }
      ]
    },
    {
      "cell_type": "code",
      "metadata": {
        "id": "N7rVpqgIpcqY"
      },
      "source": [
        "# save the model file\n",
        "with open('bestRFC', 'wb') as file:\n",
        "    pickle.dump(rf_random, file)"
      ],
      "execution_count": 56,
      "outputs": []
    },
    {
      "cell_type": "markdown",
      "metadata": {
        "id": "KeNfgXlqozJG"
      },
      "source": [
        "### By using the RandomizedSearechCV and Cross-validation, we have tuned the hyperparameters and increased the accuracy from 0.728 to 0.752"
      ]
    },
    {
      "cell_type": "code",
      "metadata": {
        "colab": {
          "base_uri": "https://localhost:8080/"
        },
        "id": "ZvbiXjRSpWxE",
        "outputId": "7bfa547d-ab1b-489a-a911-ab81eae59a53"
      },
      "source": [
        "param = [{'C': [1, 10, 20], 'gamma': ['scale', 'auto'], 'kernel': ['rbf','linear']}]\n",
        "\n",
        "# Create a classifier object with the classifier and parameter candidates\n",
        "svcclf = GridSearchCV(estimator=svm.SVC(), param_grid=param)\n",
        "\n",
        "# Train the classifier on data1's feature and target data\n",
        "svcclf.fit(x_train, y_train)  \n",
        "\n",
        "# View the accuracy score\n",
        "print('Best score using SVC:', svcclf.best_score_) \n",
        "\n",
        "\n",
        "# View the best parameters for the model found using grid search\n",
        "print('Best C:',svcclf.best_estimator_.C) \n",
        "print('Best Kernel:',svcclf.best_estimator_.kernel)\n",
        "print('Best Gamma:',svcclf.best_estimator_.gamma)"
      ],
      "execution_count": 57,
      "outputs": [
        {
          "output_type": "stream",
          "text": [
            "Best score using SVC: 0.75665895224069\n",
            "Best C: 1\n",
            "Best Kernel: rbf\n",
            "Best Gamma: scale\n"
          ],
          "name": "stdout"
        }
      ]
    },
    {
      "cell_type": "markdown",
      "metadata": {
        "id": "xSqfK3RZrRMB"
      },
      "source": [
        "###Here we have used GridSearchCV with SVC model and the accuracy score is increased from 0.704 to 0.756"
      ]
    },
    {
      "cell_type": "code",
      "metadata": {
        "id": "BQNulsQertcr"
      },
      "source": [
        "# save the model file\n",
        "with open('bestSVC', 'wb') as file:\n",
        "    pickle.dump(svcclf, file)"
      ],
      "execution_count": 58,
      "outputs": []
    },
    {
      "cell_type": "code",
      "metadata": {
        "colab": {
          "base_uri": "https://localhost:8080/"
        },
        "id": "TTcE3ReIr9lP",
        "outputId": "0df87d5f-3322-4aa3-ecb0-2437b2425cee"
      },
      "source": [
        "#Creating a grid of hyperparameters\n",
        "boost = AdaBoostClassifier(base_estimator=None)\n",
        "parameters = {'n_estimators': (50,100,150,200),\n",
        "              'learning_rate': (0.1,0.5,1, 2)}\n",
        "adab = GridSearchCV(boost, parameters)\n",
        "adab.fit(x_train, y_train)\n",
        "score = adab.best_score_\n",
        "param = adab.best_params_\n",
        "print(score)\n",
        "print(param)"
      ],
      "execution_count": 59,
      "outputs": [
        {
          "output_type": "stream",
          "text": [
            "0.719966337050284\n",
            "{'learning_rate': 0.1, 'n_estimators': 100}\n"
          ],
          "name": "stdout"
        }
      ]
    },
    {
      "cell_type": "markdown",
      "metadata": {
        "id": "aFPBT-dYsPg5"
      },
      "source": [
        "###Here we have used GridSearchCV with AdaBoostClassifier model and the accuracy score is increased from 0.68 to 0.71"
      ]
    },
    {
      "cell_type": "code",
      "metadata": {
        "id": "VQxZbBLXsmJT"
      },
      "source": [
        "# save the model file\n",
        "with open('bestAdaBoost', 'wb') as file:\n",
        "    pickle.dump(adab, file)"
      ],
      "execution_count": 61,
      "outputs": []
    },
    {
      "cell_type": "markdown",
      "metadata": {
        "id": "ym0WGtoys32i"
      },
      "source": [
        "## From these analysis, we can conclude that SupportVectorClassifier can be used to predict the absenteeism as it showed better performance than other models"
      ]
    },
    {
      "cell_type": "markdown",
      "metadata": {
        "id": "u0dWq5jxtSRq"
      },
      "source": [
        "--------------------------------------------------------------------------------------------------------------------                                                        END -------------------------------------------------------------------------------------------------------\n",
        "\n",
        "\n",
        "\n",
        "\n",
        "\n"
      ]
    },
    {
      "cell_type": "code",
      "metadata": {
        "id": "8ZHH_vlVts5S"
      },
      "source": [
        ""
      ],
      "execution_count": null,
      "outputs": []
    }
  ]
}